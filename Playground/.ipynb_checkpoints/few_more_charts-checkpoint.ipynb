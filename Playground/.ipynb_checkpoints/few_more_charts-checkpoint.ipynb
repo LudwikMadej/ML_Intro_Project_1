{
 "cells": [
  {
   "cell_type": "code",
   "execution_count": 13,
   "id": "1cb26d4c-b2e3-4c25-ba70-842a0ca9f73a",
   "metadata": {},
   "outputs": [],
   "source": [
    "import pandas as pd\n",
    "import numpy as np\n",
    "import matplotlib.pyplot as plt\n",
    "import seaborn as sns"
   ]
  },
  {
   "cell_type": "code",
   "execution_count": 74,
   "id": "f9d7a6ed-18dd-46ac-9bc0-730dc9bc34e7",
   "metadata": {},
   "outputs": [],
   "source": [
    "df = pd.read_csv(\"depression_data.csv\")"
   ]
  },
  {
   "cell_type": "code",
   "execution_count": 75,
   "id": "45257f1e-e260-498d-b29c-dc1c15b359c1",
   "metadata": {},
   "outputs": [
    {
     "data": {
      "text/html": [
       "<div>\n",
       "<style scoped>\n",
       "    .dataframe tbody tr th:only-of-type {\n",
       "        vertical-align: middle;\n",
       "    }\n",
       "\n",
       "    .dataframe tbody tr th {\n",
       "        vertical-align: top;\n",
       "    }\n",
       "\n",
       "    .dataframe thead th {\n",
       "        text-align: right;\n",
       "    }\n",
       "</style>\n",
       "<table border=\"1\" class=\"dataframe\">\n",
       "  <thead>\n",
       "    <tr style=\"text-align: right;\">\n",
       "      <th></th>\n",
       "      <th>Name</th>\n",
       "      <th>Age</th>\n",
       "      <th>Marital Status</th>\n",
       "      <th>Education Level</th>\n",
       "      <th>Number of Children</th>\n",
       "      <th>Smoking Status</th>\n",
       "      <th>Physical Activity Level</th>\n",
       "      <th>Employment Status</th>\n",
       "      <th>Income</th>\n",
       "      <th>Alcohol Consumption</th>\n",
       "      <th>Dietary Habits</th>\n",
       "      <th>Sleep Patterns</th>\n",
       "      <th>History of Mental Illness</th>\n",
       "      <th>History of Substance Abuse</th>\n",
       "      <th>Family History of Depression</th>\n",
       "      <th>Chronic Medical Conditions</th>\n",
       "    </tr>\n",
       "  </thead>\n",
       "  <tbody>\n",
       "    <tr>\n",
       "      <th>0</th>\n",
       "      <td>Christine Barker</td>\n",
       "      <td>31</td>\n",
       "      <td>Married</td>\n",
       "      <td>Bachelor's Degree</td>\n",
       "      <td>2</td>\n",
       "      <td>Non-smoker</td>\n",
       "      <td>Active</td>\n",
       "      <td>Unemployed</td>\n",
       "      <td>26265.67</td>\n",
       "      <td>Moderate</td>\n",
       "      <td>Moderate</td>\n",
       "      <td>Fair</td>\n",
       "      <td>Yes</td>\n",
       "      <td>No</td>\n",
       "      <td>Yes</td>\n",
       "      <td>Yes</td>\n",
       "    </tr>\n",
       "    <tr>\n",
       "      <th>1</th>\n",
       "      <td>Jacqueline Lewis</td>\n",
       "      <td>55</td>\n",
       "      <td>Married</td>\n",
       "      <td>High School</td>\n",
       "      <td>1</td>\n",
       "      <td>Non-smoker</td>\n",
       "      <td>Sedentary</td>\n",
       "      <td>Employed</td>\n",
       "      <td>42710.36</td>\n",
       "      <td>High</td>\n",
       "      <td>Unhealthy</td>\n",
       "      <td>Fair</td>\n",
       "      <td>Yes</td>\n",
       "      <td>No</td>\n",
       "      <td>No</td>\n",
       "      <td>Yes</td>\n",
       "    </tr>\n",
       "    <tr>\n",
       "      <th>2</th>\n",
       "      <td>Shannon Church</td>\n",
       "      <td>78</td>\n",
       "      <td>Widowed</td>\n",
       "      <td>Master's Degree</td>\n",
       "      <td>1</td>\n",
       "      <td>Non-smoker</td>\n",
       "      <td>Sedentary</td>\n",
       "      <td>Employed</td>\n",
       "      <td>125332.79</td>\n",
       "      <td>Low</td>\n",
       "      <td>Unhealthy</td>\n",
       "      <td>Good</td>\n",
       "      <td>No</td>\n",
       "      <td>No</td>\n",
       "      <td>Yes</td>\n",
       "      <td>No</td>\n",
       "    </tr>\n",
       "    <tr>\n",
       "      <th>3</th>\n",
       "      <td>Charles Jordan</td>\n",
       "      <td>58</td>\n",
       "      <td>Divorced</td>\n",
       "      <td>Master's Degree</td>\n",
       "      <td>3</td>\n",
       "      <td>Non-smoker</td>\n",
       "      <td>Moderate</td>\n",
       "      <td>Unemployed</td>\n",
       "      <td>9992.78</td>\n",
       "      <td>Moderate</td>\n",
       "      <td>Moderate</td>\n",
       "      <td>Poor</td>\n",
       "      <td>No</td>\n",
       "      <td>No</td>\n",
       "      <td>No</td>\n",
       "      <td>No</td>\n",
       "    </tr>\n",
       "    <tr>\n",
       "      <th>4</th>\n",
       "      <td>Michael Rich</td>\n",
       "      <td>18</td>\n",
       "      <td>Single</td>\n",
       "      <td>High School</td>\n",
       "      <td>0</td>\n",
       "      <td>Non-smoker</td>\n",
       "      <td>Sedentary</td>\n",
       "      <td>Unemployed</td>\n",
       "      <td>8595.08</td>\n",
       "      <td>Low</td>\n",
       "      <td>Moderate</td>\n",
       "      <td>Fair</td>\n",
       "      <td>Yes</td>\n",
       "      <td>No</td>\n",
       "      <td>Yes</td>\n",
       "      <td>Yes</td>\n",
       "    </tr>\n",
       "  </tbody>\n",
       "</table>\n",
       "</div>"
      ],
      "text/plain": [
       "               Name  Age Marital Status    Education Level  \\\n",
       "0  Christine Barker   31        Married  Bachelor's Degree   \n",
       "1  Jacqueline Lewis   55        Married        High School   \n",
       "2    Shannon Church   78        Widowed    Master's Degree   \n",
       "3    Charles Jordan   58       Divorced    Master's Degree   \n",
       "4      Michael Rich   18         Single        High School   \n",
       "\n",
       "   Number of Children Smoking Status Physical Activity Level  \\\n",
       "0                   2     Non-smoker                  Active   \n",
       "1                   1     Non-smoker               Sedentary   \n",
       "2                   1     Non-smoker               Sedentary   \n",
       "3                   3     Non-smoker                Moderate   \n",
       "4                   0     Non-smoker               Sedentary   \n",
       "\n",
       "  Employment Status     Income Alcohol Consumption Dietary Habits  \\\n",
       "0        Unemployed   26265.67            Moderate       Moderate   \n",
       "1          Employed   42710.36                High      Unhealthy   \n",
       "2          Employed  125332.79                 Low      Unhealthy   \n",
       "3        Unemployed    9992.78            Moderate       Moderate   \n",
       "4        Unemployed    8595.08                 Low       Moderate   \n",
       "\n",
       "  Sleep Patterns History of Mental Illness History of Substance Abuse  \\\n",
       "0           Fair                       Yes                         No   \n",
       "1           Fair                       Yes                         No   \n",
       "2           Good                        No                         No   \n",
       "3           Poor                        No                         No   \n",
       "4           Fair                       Yes                         No   \n",
       "\n",
       "  Family History of Depression Chronic Medical Conditions  \n",
       "0                          Yes                        Yes  \n",
       "1                           No                        Yes  \n",
       "2                          Yes                         No  \n",
       "3                           No                         No  \n",
       "4                          Yes                        Yes  "
      ]
     },
     "execution_count": 75,
     "metadata": {},
     "output_type": "execute_result"
    }
   ],
   "source": [
    "df.head()"
   ]
  },
  {
   "cell_type": "code",
   "execution_count": 64,
   "id": "fd1455e3-d7ea-4cae-881a-7894fad525ea",
   "metadata": {},
   "outputs": [
    {
     "data": {
      "text/plain": [
       "np.int64(32729)"
      ]
     },
     "execution_count": 64,
     "metadata": {},
     "output_type": "execute_result"
    }
   ],
   "source": [
    "(df[\"Marital Status\"] == \"Divorced\").sum()"
   ]
  },
  {
   "cell_type": "code",
   "execution_count": 65,
   "id": "e56968e8-ac20-4593-bd31-ff23077ac0de",
   "metadata": {},
   "outputs": [],
   "source": [
    "df[\"Marital Status\"] = np.where(\n",
    "        df[\"Marital Status\"] == \"Widowed\", 0,\n",
    "        np.where(\n",
    "            df[\"Marital Status\"] == \"Divorced\", 1, \n",
    "                np.where(\n",
    "                    df[\"Marital Status\"] == \"Single\", 2, 3\n",
    "                        )\n",
    "                )\n",
    "    ).astype(np.int8)"
   ]
  },
  {
   "cell_type": "code",
   "execution_count": 66,
   "id": "1333cdc4-6caf-4824-a70d-0bcdd7c596e5",
   "metadata": {},
   "outputs": [
    {
     "data": {
      "text/plain": [
       "np.int64(32729)"
      ]
     },
     "execution_count": 66,
     "metadata": {},
     "output_type": "execute_result"
    }
   ],
   "source": [
    "(df[\"Marital Status\"] == 1).sum()"
   ]
  },
  {
   "cell_type": "code",
   "execution_count": 69,
   "id": "a22b811c-f466-492e-a40c-8ab3c4104ca9",
   "metadata": {},
   "outputs": [],
   "source": [
    "import toolkit"
   ]
  },
  {
   "cell_type": "code",
   "execution_count": 76,
   "id": "12d986d9-0665-441a-b776-0ca27bf41221",
   "metadata": {},
   "outputs": [],
   "source": [
    "df = toolkit.pipeline(df)"
   ]
  },
  {
   "cell_type": "code",
   "execution_count": 77,
   "id": "613a4496-aec5-4072-8a88-60ff609a13e8",
   "metadata": {},
   "outputs": [
    {
     "data": {
      "text/plain": [
       "Marital Status\n",
       "3    308929\n",
       "2     72110\n",
       "0     32729\n",
       "Name: count, dtype: int64"
      ]
     },
     "execution_count": 77,
     "metadata": {},
     "output_type": "execute_result"
    }
   ],
   "source": [
    "df[\"Marital Status\"].value_counts()"
   ]
  },
  {
   "cell_type": "code",
   "execution_count": 29,
   "id": "0f09fea1-a973-4f7f-a187-def47a70ed7d",
   "metadata": {},
   "outputs": [],
   "source": [
    "categorical_columns = [colname for colname in df.columns if df[colname].dtype in [np.int8, np.int64] and colname != \"Age\"]"
   ]
  },
  {
   "cell_type": "code",
   "execution_count": 31,
   "id": "8875bbae-9620-4529-b341-9c2460130286",
   "metadata": {},
   "outputs": [],
   "source": [
    "categorical_columns = np.array(categorical_columns)"
   ]
  },
  {
   "cell_type": "code",
   "execution_count": 41,
   "id": "f255cec2-bea5-40e7-b6eb-19faa360172f",
   "metadata": {},
   "outputs": [],
   "source": [
    "all_combinations = [list(categorical_columns[[i, j]]) for i in range(len(categorical_columns)-1) for j in range(i, len(categorical_columns))]"
   ]
  },
  {
   "cell_type": "code",
   "execution_count": 42,
   "id": "349d4b66-8c54-47d0-b65e-5eef9a657e5e",
   "metadata": {},
   "outputs": [
    {
     "data": {
      "text/plain": [
       "[[np.str_('Marital Status'), np.str_('Marital Status')],\n",
       " [np.str_('Marital Status'), np.str_('Education Level')],\n",
       " [np.str_('Marital Status'), np.str_('Number of Children')],\n",
       " [np.str_('Marital Status'), np.str_('Smoking Status')],\n",
       " [np.str_('Marital Status'), np.str_('Physical Activity Level')],\n",
       " [np.str_('Marital Status'), np.str_('Alcohol Consumption')],\n",
       " [np.str_('Marital Status'), np.str_('Dietary Habits')],\n",
       " [np.str_('Marital Status'), np.str_('Sleep Patterns')],\n",
       " [np.str_('Marital Status'), np.str_('History of Mental Illness')],\n",
       " [np.str_('Marital Status'), np.str_('History of Substance Abuse')],\n",
       " [np.str_('Marital Status'), np.str_('Family History of Depression')],\n",
       " [np.str_('Marital Status'), np.str_('Chronic Medical Conditions')],\n",
       " [np.str_('Marital Status'), np.str_('Employed')],\n",
       " [np.str_('Education Level'), np.str_('Education Level')],\n",
       " [np.str_('Education Level'), np.str_('Number of Children')],\n",
       " [np.str_('Education Level'), np.str_('Smoking Status')],\n",
       " [np.str_('Education Level'), np.str_('Physical Activity Level')],\n",
       " [np.str_('Education Level'), np.str_('Alcohol Consumption')],\n",
       " [np.str_('Education Level'), np.str_('Dietary Habits')],\n",
       " [np.str_('Education Level'), np.str_('Sleep Patterns')],\n",
       " [np.str_('Education Level'), np.str_('History of Mental Illness')],\n",
       " [np.str_('Education Level'), np.str_('History of Substance Abuse')],\n",
       " [np.str_('Education Level'), np.str_('Family History of Depression')],\n",
       " [np.str_('Education Level'), np.str_('Chronic Medical Conditions')],\n",
       " [np.str_('Education Level'), np.str_('Employed')],\n",
       " [np.str_('Number of Children'), np.str_('Number of Children')],\n",
       " [np.str_('Number of Children'), np.str_('Smoking Status')],\n",
       " [np.str_('Number of Children'), np.str_('Physical Activity Level')],\n",
       " [np.str_('Number of Children'), np.str_('Alcohol Consumption')],\n",
       " [np.str_('Number of Children'), np.str_('Dietary Habits')],\n",
       " [np.str_('Number of Children'), np.str_('Sleep Patterns')],\n",
       " [np.str_('Number of Children'), np.str_('History of Mental Illness')],\n",
       " [np.str_('Number of Children'), np.str_('History of Substance Abuse')],\n",
       " [np.str_('Number of Children'), np.str_('Family History of Depression')],\n",
       " [np.str_('Number of Children'), np.str_('Chronic Medical Conditions')],\n",
       " [np.str_('Number of Children'), np.str_('Employed')],\n",
       " [np.str_('Smoking Status'), np.str_('Smoking Status')],\n",
       " [np.str_('Smoking Status'), np.str_('Physical Activity Level')],\n",
       " [np.str_('Smoking Status'), np.str_('Alcohol Consumption')],\n",
       " [np.str_('Smoking Status'), np.str_('Dietary Habits')],\n",
       " [np.str_('Smoking Status'), np.str_('Sleep Patterns')],\n",
       " [np.str_('Smoking Status'), np.str_('History of Mental Illness')],\n",
       " [np.str_('Smoking Status'), np.str_('History of Substance Abuse')],\n",
       " [np.str_('Smoking Status'), np.str_('Family History of Depression')],\n",
       " [np.str_('Smoking Status'), np.str_('Chronic Medical Conditions')],\n",
       " [np.str_('Smoking Status'), np.str_('Employed')],\n",
       " [np.str_('Physical Activity Level'), np.str_('Physical Activity Level')],\n",
       " [np.str_('Physical Activity Level'), np.str_('Alcohol Consumption')],\n",
       " [np.str_('Physical Activity Level'), np.str_('Dietary Habits')],\n",
       " [np.str_('Physical Activity Level'), np.str_('Sleep Patterns')],\n",
       " [np.str_('Physical Activity Level'), np.str_('History of Mental Illness')],\n",
       " [np.str_('Physical Activity Level'), np.str_('History of Substance Abuse')],\n",
       " [np.str_('Physical Activity Level'), np.str_('Family History of Depression')],\n",
       " [np.str_('Physical Activity Level'), np.str_('Chronic Medical Conditions')],\n",
       " [np.str_('Physical Activity Level'), np.str_('Employed')],\n",
       " [np.str_('Alcohol Consumption'), np.str_('Alcohol Consumption')],\n",
       " [np.str_('Alcohol Consumption'), np.str_('Dietary Habits')],\n",
       " [np.str_('Alcohol Consumption'), np.str_('Sleep Patterns')],\n",
       " [np.str_('Alcohol Consumption'), np.str_('History of Mental Illness')],\n",
       " [np.str_('Alcohol Consumption'), np.str_('History of Substance Abuse')],\n",
       " [np.str_('Alcohol Consumption'), np.str_('Family History of Depression')],\n",
       " [np.str_('Alcohol Consumption'), np.str_('Chronic Medical Conditions')],\n",
       " [np.str_('Alcohol Consumption'), np.str_('Employed')],\n",
       " [np.str_('Dietary Habits'), np.str_('Dietary Habits')],\n",
       " [np.str_('Dietary Habits'), np.str_('Sleep Patterns')],\n",
       " [np.str_('Dietary Habits'), np.str_('History of Mental Illness')],\n",
       " [np.str_('Dietary Habits'), np.str_('History of Substance Abuse')],\n",
       " [np.str_('Dietary Habits'), np.str_('Family History of Depression')],\n",
       " [np.str_('Dietary Habits'), np.str_('Chronic Medical Conditions')],\n",
       " [np.str_('Dietary Habits'), np.str_('Employed')],\n",
       " [np.str_('Sleep Patterns'), np.str_('Sleep Patterns')],\n",
       " [np.str_('Sleep Patterns'), np.str_('History of Mental Illness')],\n",
       " [np.str_('Sleep Patterns'), np.str_('History of Substance Abuse')],\n",
       " [np.str_('Sleep Patterns'), np.str_('Family History of Depression')],\n",
       " [np.str_('Sleep Patterns'), np.str_('Chronic Medical Conditions')],\n",
       " [np.str_('Sleep Patterns'), np.str_('Employed')],\n",
       " [np.str_('History of Mental Illness'), np.str_('History of Mental Illness')],\n",
       " [np.str_('History of Mental Illness'), np.str_('History of Substance Abuse')],\n",
       " [np.str_('History of Mental Illness'),\n",
       "  np.str_('Family History of Depression')],\n",
       " [np.str_('History of Mental Illness'), np.str_('Chronic Medical Conditions')],\n",
       " [np.str_('History of Mental Illness'), np.str_('Employed')],\n",
       " [np.str_('History of Substance Abuse'),\n",
       "  np.str_('History of Substance Abuse')],\n",
       " [np.str_('History of Substance Abuse'),\n",
       "  np.str_('Family History of Depression')],\n",
       " [np.str_('History of Substance Abuse'),\n",
       "  np.str_('Chronic Medical Conditions')],\n",
       " [np.str_('History of Substance Abuse'), np.str_('Employed')],\n",
       " [np.str_('Family History of Depression'),\n",
       "  np.str_('Family History of Depression')],\n",
       " [np.str_('Family History of Depression'),\n",
       "  np.str_('Chronic Medical Conditions')],\n",
       " [np.str_('Family History of Depression'), np.str_('Employed')],\n",
       " [np.str_('Chronic Medical Conditions'),\n",
       "  np.str_('Chronic Medical Conditions')],\n",
       " [np.str_('Chronic Medical Conditions'), np.str_('Employed')]]"
      ]
     },
     "execution_count": 42,
     "metadata": {},
     "output_type": "execute_result"
    }
   ],
   "source": [
    "all_combinations"
   ]
  },
  {
   "cell_type": "code",
   "execution_count": 43,
   "id": "bf78e209-ef76-4af4-80e1-e34d8b65c25e",
   "metadata": {},
   "outputs": [
    {
     "data": {
      "text/plain": [
       "90"
      ]
     },
     "execution_count": 43,
     "metadata": {},
     "output_type": "execute_result"
    }
   ],
   "source": [
    "len(all_combinations)"
   ]
  },
  {
   "cell_type": "code",
   "execution_count": null,
   "id": "4b21fa00-1c9c-400a-b71a-7e46d1597411",
   "metadata": {},
   "outputs": [],
   "source": [
    "for i in range(90):\n",
    "    combination = all_combinations[i]\n",
    "    df = df.groupby(combination)[\"Chronic Medical Conditions\"].mean().reset_index()"
   ]
  },
  {
   "cell_type": "code",
   "execution_count": 44,
   "id": "8dbf12b3-c8cc-4905-a91d-1b1f218c16dd",
   "metadata": {},
   "outputs": [],
   "source": [
    "i = 1"
   ]
  },
  {
   "cell_type": "code",
   "execution_count": 45,
   "id": "7d07bac3-3469-429f-ba4a-8bef39ac4154",
   "metadata": {},
   "outputs": [],
   "source": [
    "combination = all_combinations[i]\n",
    "x = df.groupby(combination)[\"Chronic Medical Conditions\"].mean().reset_index()"
   ]
  },
  {
   "cell_type": "code",
   "execution_count": 46,
   "id": "f2a279a9-a5c3-4ce2-a649-ea04b82d88b2",
   "metadata": {},
   "outputs": [
    {
     "data": {
      "text/html": [
       "<div>\n",
       "<style scoped>\n",
       "    .dataframe tbody tr th:only-of-type {\n",
       "        vertical-align: middle;\n",
       "    }\n",
       "\n",
       "    .dataframe tbody tr th {\n",
       "        vertical-align: top;\n",
       "    }\n",
       "\n",
       "    .dataframe thead th {\n",
       "        text-align: right;\n",
       "    }\n",
       "</style>\n",
       "<table border=\"1\" class=\"dataframe\">\n",
       "  <thead>\n",
       "    <tr style=\"text-align: right;\">\n",
       "      <th></th>\n",
       "      <th>Marital Status</th>\n",
       "      <th>Education Level</th>\n",
       "      <th>Chronic Medical Conditions</th>\n",
       "    </tr>\n",
       "  </thead>\n",
       "  <tbody>\n",
       "    <tr>\n",
       "      <th>0</th>\n",
       "      <td>0</td>\n",
       "      <td>0</td>\n",
       "      <td>0.326254</td>\n",
       "    </tr>\n",
       "    <tr>\n",
       "      <th>1</th>\n",
       "      <td>0</td>\n",
       "      <td>2</td>\n",
       "      <td>0.326437</td>\n",
       "    </tr>\n",
       "    <tr>\n",
       "      <th>2</th>\n",
       "      <td>0</td>\n",
       "      <td>3</td>\n",
       "      <td>0.324710</td>\n",
       "    </tr>\n",
       "    <tr>\n",
       "      <th>3</th>\n",
       "      <td>0</td>\n",
       "      <td>4</td>\n",
       "      <td>0.333898</td>\n",
       "    </tr>\n",
       "    <tr>\n",
       "      <th>4</th>\n",
       "      <td>2</td>\n",
       "      <td>0</td>\n",
       "      <td>0.345771</td>\n",
       "    </tr>\n",
       "    <tr>\n",
       "      <th>5</th>\n",
       "      <td>2</td>\n",
       "      <td>2</td>\n",
       "      <td>0.334284</td>\n",
       "    </tr>\n",
       "    <tr>\n",
       "      <th>6</th>\n",
       "      <td>2</td>\n",
       "      <td>3</td>\n",
       "      <td>0.344271</td>\n",
       "    </tr>\n",
       "    <tr>\n",
       "      <th>7</th>\n",
       "      <td>2</td>\n",
       "      <td>4</td>\n",
       "      <td>0.340391</td>\n",
       "    </tr>\n",
       "    <tr>\n",
       "      <th>8</th>\n",
       "      <td>3</td>\n",
       "      <td>0</td>\n",
       "      <td>0.325936</td>\n",
       "    </tr>\n",
       "    <tr>\n",
       "      <th>9</th>\n",
       "      <td>3</td>\n",
       "      <td>2</td>\n",
       "      <td>0.326796</td>\n",
       "    </tr>\n",
       "    <tr>\n",
       "      <th>10</th>\n",
       "      <td>3</td>\n",
       "      <td>3</td>\n",
       "      <td>0.325189</td>\n",
       "    </tr>\n",
       "    <tr>\n",
       "      <th>11</th>\n",
       "      <td>3</td>\n",
       "      <td>4</td>\n",
       "      <td>0.327611</td>\n",
       "    </tr>\n",
       "  </tbody>\n",
       "</table>\n",
       "</div>"
      ],
      "text/plain": [
       "    Marital Status  Education Level  Chronic Medical Conditions\n",
       "0                0                0                    0.326254\n",
       "1                0                2                    0.326437\n",
       "2                0                3                    0.324710\n",
       "3                0                4                    0.333898\n",
       "4                2                0                    0.345771\n",
       "5                2                2                    0.334284\n",
       "6                2                3                    0.344271\n",
       "7                2                4                    0.340391\n",
       "8                3                0                    0.325936\n",
       "9                3                2                    0.326796\n",
       "10               3                3                    0.325189\n",
       "11               3                4                    0.327611"
      ]
     },
     "execution_count": 46,
     "metadata": {},
     "output_type": "execute_result"
    }
   ],
   "source": [
    "x"
   ]
  },
  {
   "cell_type": "code",
   "execution_count": 47,
   "id": "390a5dc5-7964-4b3b-87c5-f74fbcabef07",
   "metadata": {},
   "outputs": [],
   "source": [
    "df_wide = x.pivot(index=combination[0], columns=combination[1], values=\"Chronic Medical Conditions\")"
   ]
  },
  {
   "cell_type": "code",
   "execution_count": 48,
   "id": "e89937b9-6dfb-468f-99bf-e3a22fd6845c",
   "metadata": {},
   "outputs": [
    {
     "data": {
      "text/html": [
       "<div>\n",
       "<style scoped>\n",
       "    .dataframe tbody tr th:only-of-type {\n",
       "        vertical-align: middle;\n",
       "    }\n",
       "\n",
       "    .dataframe tbody tr th {\n",
       "        vertical-align: top;\n",
       "    }\n",
       "\n",
       "    .dataframe thead th {\n",
       "        text-align: right;\n",
       "    }\n",
       "</style>\n",
       "<table border=\"1\" class=\"dataframe\">\n",
       "  <thead>\n",
       "    <tr style=\"text-align: right;\">\n",
       "      <th>Education Level</th>\n",
       "      <th>0</th>\n",
       "      <th>2</th>\n",
       "      <th>3</th>\n",
       "      <th>4</th>\n",
       "    </tr>\n",
       "    <tr>\n",
       "      <th>Marital Status</th>\n",
       "      <th></th>\n",
       "      <th></th>\n",
       "      <th></th>\n",
       "      <th></th>\n",
       "    </tr>\n",
       "  </thead>\n",
       "  <tbody>\n",
       "    <tr>\n",
       "      <th>0</th>\n",
       "      <td>0.326254</td>\n",
       "      <td>0.326437</td>\n",
       "      <td>0.324710</td>\n",
       "      <td>0.333898</td>\n",
       "    </tr>\n",
       "    <tr>\n",
       "      <th>2</th>\n",
       "      <td>0.345771</td>\n",
       "      <td>0.334284</td>\n",
       "      <td>0.344271</td>\n",
       "      <td>0.340391</td>\n",
       "    </tr>\n",
       "    <tr>\n",
       "      <th>3</th>\n",
       "      <td>0.325936</td>\n",
       "      <td>0.326796</td>\n",
       "      <td>0.325189</td>\n",
       "      <td>0.327611</td>\n",
       "    </tr>\n",
       "  </tbody>\n",
       "</table>\n",
       "</div>"
      ],
      "text/plain": [
       "Education Level         0         2         3         4\n",
       "Marital Status                                         \n",
       "0                0.326254  0.326437  0.324710  0.333898\n",
       "2                0.345771  0.334284  0.344271  0.340391\n",
       "3                0.325936  0.326796  0.325189  0.327611"
      ]
     },
     "execution_count": 48,
     "metadata": {},
     "output_type": "execute_result"
    }
   ],
   "source": [
    "df_wide"
   ]
  },
  {
   "cell_type": "code",
   "execution_count": null,
   "id": "b945feaa-db02-49bc-b8a1-3f30e572520a",
   "metadata": {},
   "outputs": [],
   "source": []
  }
 ],
 "metadata": {
  "kernelspec": {
   "display_name": "Python 3 (ipykernel)",
   "language": "python",
   "name": "python3"
  },
  "language_info": {
   "codemirror_mode": {
    "name": "ipython",
    "version": 3
   },
   "file_extension": ".py",
   "mimetype": "text/x-python",
   "name": "python",
   "nbconvert_exporter": "python",
   "pygments_lexer": "ipython3",
   "version": "3.10.0"
  }
 },
 "nbformat": 4,
 "nbformat_minor": 5
}
