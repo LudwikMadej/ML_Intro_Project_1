{
 "cells": [
  {
   "cell_type": "markdown",
   "id": "9f0a9360-8c8b-4b0d-b961-4d7e714a22cf",
   "metadata": {},
   "source": [
    "# Creating pipeline"
   ]
  },
  {
   "cell_type": "code",
   "execution_count": 1,
   "id": "f020f3e7-be00-47fa-ae50-a23a15162b1a",
   "metadata": {},
   "outputs": [],
   "source": [
    "import pandas as pd\n",
    "import numpy as np\n",
    "from sklearn.compose import ColumnTransformer\n",
    "from sklearn.preprocessing import StandardScaler\n",
    "from sklearn.base import BaseEstimator, TransformerMixin"
   ]
  },
  {
   "cell_type": "code",
   "execution_count": 2,
   "id": "db1671ae-8912-4868-adc2-58abe6f1266c",
   "metadata": {},
   "outputs": [],
   "source": [
    "import numpy as np\n",
    "import pandas as pd\n",
    "from sklearn.base import BaseEstimator, TransformerMixin\n",
    "from sklearn.compose import ColumnTransformer\n",
    "from sklearn.preprocessing import StandardScaler\n",
    "\n",
    "class MyColumnTransformer(BaseEstimator, TransformerMixin):\n",
    "    def __init__(self):\n",
    "        self.pipeline = ColumnTransformer([\n",
    "            (\"income\", StandardScaler(), [\"Income\", \"Age\"])\n",
    "        ], remainder=\"passthrough\")\n",
    "    \n",
    "    def fit(self, X, y=None):\n",
    "        self.pipeline.fit(self.first_preprocess(X))\n",
    "        return self\n",
    "\n",
    "    def transform(self, X):\n",
    "        return self.pipeline.transform(self.first_preprocess(X))\n",
    "\n",
    "    def fit_transform(self, X, y=None):\n",
    "        return self.pipeline.fit_transform(self.first_preprocess(X))\n",
    "\n",
    "    def first_preprocess(self, df):\n",
    "        df = df.copy()\n",
    "        \n",
    "        df.drop(\"Name\", axis=1, inplace=True)\n",
    "\n",
    "        df[\"Marital Status\"] = np.where(\n",
    "            df[\"Marital Status\"] == \"Divorced\", 0,\n",
    "            np.where(df[\"Marital Status\"] == \"Married\", 1,  # Fixed incorrect condition\n",
    "                     np.where(df[\"Marital Status\"] == \"Single\", 2, 3)\n",
    "                    )\n",
    "        )\n",
    "\n",
    "        df[\"Education Level\"] = np.where(\n",
    "            df[\"Education Level\"] == \"High School\", 0,\n",
    "            np.where(df[\"Education Level\"] == \"Associate Degree\", 1,  # Fixed spelling (\"Accociate\")\n",
    "                     np.where(df[\"Education Level\"] == \"Bachelor's Degree\", 2,\n",
    "                              np.where(df[\"Education Level\"] == \"Master's Degree\", 3,\n",
    "                                       4)\n",
    "                             )\n",
    "                    )\n",
    "        )\n",
    "\n",
    "        df[\"Smoking Status\"] = np.where(\n",
    "            df[\"Smoking Status\"] == \"Non-smoker\", 0,\n",
    "            np.where(df[\"Smoking Status\"] == \"Former\", 1, 2)\n",
    "        )\n",
    "\n",
    "        df[\"Physical Activity Level\"] = np.where(\n",
    "            df[\"Physical Activity Level\"] == \"Sedentary\", 0,\n",
    "            np.where(df[\"Physical Activity Level\"] == \"Moderate\", 1, 2)\n",
    "        )\n",
    "\n",
    "        df[\"Employed\"] = (df[\"Employment Status\"] == \"Employed\").astype(np.int8)\n",
    "        df.drop(\"Employment Status\", axis=1, inplace=True)\n",
    "\n",
    "        df[\"Alcohol Consumption\"] = np.where(\n",
    "            df[\"Alcohol Consumption\"] == \"Low\", 0,\n",
    "            np.where(df[\"Alcohol Consumption\"] == \"Moderate\", 1, 2)\n",
    "        )\n",
    "\n",
    "        df[\"Dietary Habits\"] = np.where(\n",
    "            df[\"Dietary Habits\"] == \"Unhealthy\", 0,\n",
    "            np.where(df[\"Dietary Habits\"] == \"Moderate\", 1, 2)\n",
    "        )\n",
    "\n",
    "        df[\"Sleep Patterns\"] = np.where(\n",
    "            df[\"Sleep Patterns\"] == \"Poor\", 0,\n",
    "            np.where(df[\"Sleep Patterns\"] == \"Fair\", 1, 2)\n",
    "        )\n",
    "\n",
    "        df[\"Income\"] = np.log(df[\"Income\"])  # Ensure Income > 0 to avoid log errors\n",
    "\n",
    "        for colname in [\"History of Mental Illness\", \"History of Substance Abuse\", \n",
    "                        \"Family History of Depression\"]:\n",
    "            df[colname] = (df[colname] == \"Yes\").astype(np.int8)\n",
    "\n",
    "        return df\n"
   ]
  },
  {
   "cell_type": "code",
   "execution_count": 3,
   "id": "ac546831-24ad-4e47-b530-2dd3afad7100",
   "metadata": {},
   "outputs": [],
   "source": [
    "mct = MyColumnTransformer()"
   ]
  },
  {
   "cell_type": "code",
   "execution_count": 4,
   "id": "0022e5c0-774d-4313-b6c0-66030fa7f23f",
   "metadata": {},
   "outputs": [],
   "source": [
    "data = pd.read_csv(\"../Playground/depression_data.csv\")"
   ]
  },
  {
   "cell_type": "code",
   "execution_count": 5,
   "id": "4231e077-666c-4691-a54d-eca15d97f3b8",
   "metadata": {},
   "outputs": [
    {
     "data": {
      "text/plain": [
       "(413768, 16)"
      ]
     },
     "execution_count": 5,
     "metadata": {},
     "output_type": "execute_result"
    }
   ],
   "source": [
    "data.shape"
   ]
  },
  {
   "cell_type": "code",
   "execution_count": 6,
   "id": "f8f82dee-6977-4998-867b-40bbc7f31523",
   "metadata": {},
   "outputs": [],
   "source": [
    "data_transformed = mct.fit_transform(data)"
   ]
  },
  {
   "cell_type": "code",
   "execution_count": 7,
   "id": "656766e5-3f45-4ca3-9e90-fdae768d980e",
   "metadata": {},
   "outputs": [
    {
     "data": {
      "text/plain": [
       "(413768, 15)"
      ]
     },
     "execution_count": 7,
     "metadata": {},
     "output_type": "execute_result"
    }
   ],
   "source": [
    "data_transformed.shape"
   ]
  },
  {
   "cell_type": "code",
   "execution_count": 8,
   "id": "f38792a9-861a-46c1-96a3-47808186db5a",
   "metadata": {},
   "outputs": [
    {
     "data": {
      "text/plain": [
       "array([[-0.21309620791134823, -0.9912976071164842, 1, ..., 1, 'Yes', 0],\n",
       "       [0.22812899754537577, 0.33038018552256504, 1, ..., 0, 'Yes', 1],\n",
       "       [1.205120718805423, 1.5969880701349872, 3, ..., 1, 'No', 1],\n",
       "       ...,\n",
       "       [0.7671526210460916, 0.44052000157581916, 1, ..., 1, 'Yes', 1],\n",
       "       [-0.27413946958569535, 1.2114987139485978, 1, ..., 0, 'No', 0],\n",
       "       [1.0626653300142777, 0.7158695417089544, 3, ..., 0, 'No', 1]],\n",
       "      dtype=object)"
      ]
     },
     "execution_count": 8,
     "metadata": {},
     "output_type": "execute_result"
    }
   ],
   "source": []
  },
  {
   "cell_type": "code",
   "execution_count": 9,
   "id": "37fa2e7c-a97d-46cb-a3ea-d4b31b8d2645",
   "metadata": {},
   "outputs": [
    {
     "data": {
      "text/html": [
       "<div>\n",
       "<style scoped>\n",
       "    .dataframe tbody tr th:only-of-type {\n",
       "        vertical-align: middle;\n",
       "    }\n",
       "\n",
       "    .dataframe tbody tr th {\n",
       "        vertical-align: top;\n",
       "    }\n",
       "\n",
       "    .dataframe thead th {\n",
       "        text-align: right;\n",
       "    }\n",
       "</style>\n",
       "<table border=\"1\" class=\"dataframe\">\n",
       "  <thead>\n",
       "    <tr style=\"text-align: right;\">\n",
       "      <th></th>\n",
       "      <th>Name</th>\n",
       "      <th>Age</th>\n",
       "      <th>Marital Status</th>\n",
       "      <th>Education Level</th>\n",
       "      <th>Number of Children</th>\n",
       "      <th>Smoking Status</th>\n",
       "      <th>Physical Activity Level</th>\n",
       "      <th>Employment Status</th>\n",
       "      <th>Income</th>\n",
       "      <th>Alcohol Consumption</th>\n",
       "      <th>Dietary Habits</th>\n",
       "      <th>Sleep Patterns</th>\n",
       "      <th>History of Mental Illness</th>\n",
       "      <th>History of Substance Abuse</th>\n",
       "      <th>Family History of Depression</th>\n",
       "      <th>Chronic Medical Conditions</th>\n",
       "    </tr>\n",
       "  </thead>\n",
       "  <tbody>\n",
       "    <tr>\n",
       "      <th>0</th>\n",
       "      <td>Christine Barker</td>\n",
       "      <td>31</td>\n",
       "      <td>Married</td>\n",
       "      <td>Bachelor's Degree</td>\n",
       "      <td>2</td>\n",
       "      <td>Non-smoker</td>\n",
       "      <td>Active</td>\n",
       "      <td>Unemployed</td>\n",
       "      <td>26265.67</td>\n",
       "      <td>Moderate</td>\n",
       "      <td>Moderate</td>\n",
       "      <td>Fair</td>\n",
       "      <td>Yes</td>\n",
       "      <td>No</td>\n",
       "      <td>Yes</td>\n",
       "      <td>Yes</td>\n",
       "    </tr>\n",
       "  </tbody>\n",
       "</table>\n",
       "</div>"
      ],
      "text/plain": [
       "               Name  Age Marital Status    Education Level  \\\n",
       "0  Christine Barker   31        Married  Bachelor's Degree   \n",
       "\n",
       "   Number of Children Smoking Status Physical Activity Level  \\\n",
       "0                   2     Non-smoker                  Active   \n",
       "\n",
       "  Employment Status    Income Alcohol Consumption Dietary Habits  \\\n",
       "0        Unemployed  26265.67            Moderate       Moderate   \n",
       "\n",
       "  Sleep Patterns History of Mental Illness History of Substance Abuse  \\\n",
       "0           Fair                       Yes                         No   \n",
       "\n",
       "  Family History of Depression Chronic Medical Conditions  \n",
       "0                          Yes                        Yes  "
      ]
     },
     "execution_count": 9,
     "metadata": {},
     "output_type": "execute_result"
    }
   ],
   "source": [
    "data.head(1)"
   ]
  },
  {
   "cell_type": "code",
   "execution_count": 10,
   "id": "63b77d79-56a9-4400-b226-dbcd6a85ea6e",
   "metadata": {},
   "outputs": [
    {
     "data": {
      "text/plain": [
       "array([-0.21309620791134823, -0.9912976071164842, 1, 2, 2, 0, 2, 1, 1, 1,\n",
       "       1, 0, 1, 'Yes', 0], dtype=object)"
      ]
     },
     "execution_count": 10,
     "metadata": {},
     "output_type": "execute_result"
    }
   ],
   "source": [
    "data_transformed[0]"
   ]
  },
  {
   "cell_type": "code",
   "execution_count": null,
   "id": "8abe029a-9f4d-4b37-bede-562696d82207",
   "metadata": {},
   "outputs": [],
   "source": []
  }
 ],
 "metadata": {
  "kernelspec": {
   "display_name": "Python 3 (ipykernel)",
   "language": "python",
   "name": "python3"
  },
  "language_info": {
   "codemirror_mode": {
    "name": "ipython",
    "version": 3
   },
   "file_extension": ".py",
   "mimetype": "text/x-python",
   "name": "python",
   "nbconvert_exporter": "python",
   "pygments_lexer": "ipython3",
   "version": "3.10.0"
  }
 },
 "nbformat": 4,
 "nbformat_minor": 5
}
