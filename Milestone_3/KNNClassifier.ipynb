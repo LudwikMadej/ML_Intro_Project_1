{
 "cells": [
  {
   "cell_type": "code",
   "execution_count": 1,
   "id": "b239bdc0-8b15-4d52-b796-616d92451be1",
   "metadata": {},
   "outputs": [],
   "source": [
    "import pandas as pd\n",
    "import numpy as np\n",
    "from sklearn.model_selection import GridSearchCV\n",
    "from sklearn.metrics import ConfusionMatrixDisplay\n",
    "from sklearn.metrics import classification_report\n",
    "from sklearn.neighbors import KNeighborsClassifier"
   ]
  },
  {
   "cell_type": "code",
   "execution_count": 2,
   "id": "8527ac11-9af0-4c3f-bb0b-bc8a8fdb0cf2",
   "metadata": {},
   "outputs": [],
   "source": [
    "train = pd.read_csv(\"../data/train.csv\")\n",
    "test = pd.read_csv(\"../data/test.csv\")\n",
    "valid = pd.read_csv(\"../data/valid.csv\")\n",
    "X_train, y_train = train.drop([\"Chronic Medical Conditions\", \"Income\"], axis=1), train[\"Chronic Medical Conditions\"]\n",
    "X_valid, y_valid = valid.drop([\"Chronic Medical Conditions\", \"Income\"], axis=1), valid[\"Chronic Medical Conditions\"]\n",
    "X_test, y_test = train.drop([\"Chronic Medical Conditions\", \"Income\"], axis=1), test[\"Chronic Medical Conditions\"]"
   ]
  },
  {
   "cell_type": "code",
   "execution_count": 3,
   "id": "f4c07227-964b-4bc5-a820-59035b9b9f50",
   "metadata": {},
   "outputs": [],
   "source": [
    "gs = GridSearchCV(\n",
    "    estimator=KNeighborsClassifier(),\n",
    "    param_grid={\n",
    "        \"n_neighbors\" : list(range(1, 20, 1)),\n",
    "        \"weights\" : [\"uniform\", \"distance\"],\n",
    "        \"metric\" : [\"cosine\", \"euclidean\", \"haversine\"]\n",
    "    },\n",
    "    cv=3\n",
    ")"
   ]
  },
  {
   "cell_type": "code",
   "execution_count": 4,
   "id": "64adeb7d-a3e8-43f4-a66d-b602d826bee0",
   "metadata": {},
   "outputs": [
    {
     "name": "stderr",
     "output_type": "stream",
     "text": [
      "\n",
      "KeyboardInterrupt\n",
      "\n"
     ]
    }
   ],
   "source": [
    "gs.fit(X_train, y_train)"
   ]
  }
 ],
 "metadata": {
  "kernelspec": {
   "display_name": "Python 3 (ipykernel)",
   "language": "python",
   "name": "python3"
  },
  "language_info": {
   "codemirror_mode": {
    "name": "ipython",
    "version": 3
   },
   "file_extension": ".py",
   "mimetype": "text/x-python",
   "name": "python",
   "nbconvert_exporter": "python",
   "pygments_lexer": "ipython3",
   "version": "3.10.0"
  }
 },
 "nbformat": 4,
 "nbformat_minor": 5
}
