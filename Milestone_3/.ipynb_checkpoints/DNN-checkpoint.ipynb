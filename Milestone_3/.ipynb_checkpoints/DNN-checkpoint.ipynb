{
 "cells": [
  {
   "cell_type": "code",
   "execution_count": 1,
   "id": "9d45bf06-3cb8-4c69-a33e-307a935fd06c",
   "metadata": {},
   "outputs": [],
   "source": [
    "import pandas as pd\n",
    "import numpy as np\n",
    "from sklearn.metrics import ConfusionMatrixDisplay\n",
    "from sklearn.metrics import classification_report\n",
    "import tensorflow as tf"
   ]
  },
  {
   "cell_type": "code",
   "execution_count": 39,
   "id": "227d53d4-f1f9-4109-a9fd-e3ba9fa62d6a",
   "metadata": {},
   "outputs": [],
   "source": [
    "train = pd.read_csv(\"../data/train.csv\")\n",
    "test = pd.read_csv(\"../data/test.csv\")\n",
    "valid = pd.read_csv(\"../data/valid.csv\")\n",
    "X_train, y_train = train.drop([\"Chronic Medical Conditions\", \"Income\"], axis=1), train[\"Chronic Medical Conditions\"]\n",
    "X_valid, y_valid = valid.drop([\"Chronic Medical Conditions\", \"Income\"], axis=1), valid[\"Chronic Medical Conditions\"]\n",
    "X_test, y_test = test.drop([\"Chronic Medical Conditions\", \"Income\"], axis=1), test[\"Chronic Medical Conditions\"]\n",
    "del train, test, valid"
   ]
  },
  {
   "cell_type": "code",
   "execution_count": 3,
   "id": "4c396c05-f19f-4b91-84af-2b9faf7aa37e",
   "metadata": {},
   "outputs": [
    {
     "data": {
      "text/plain": [
       "(248260, 11)"
      ]
     },
     "execution_count": 3,
     "metadata": {},
     "output_type": "execute_result"
    }
   ],
   "source": [
    "X_train.shape"
   ]
  },
  {
   "cell_type": "code",
   "execution_count": 9,
   "id": "81e81897-86a6-4294-952d-193d87370d91",
   "metadata": {},
   "outputs": [],
   "source": [
    "tf.random.set_seed(42)\n",
    "model = tf.keras.Sequential()\n",
    "model.add(tf.keras.layers.Dense(300, activation=\"relu\"))\n",
    "model.add(tf.keras.layers.Dense(100, activation=\"relu\"))\n",
    "model.add(tf.keras.layers.Dense(1, activation=\"softmax\"))"
   ]
  },
  {
   "cell_type": "code",
   "execution_count": 10,
   "id": "8f048923-2a07-474b-b28f-892cb1381357",
   "metadata": {},
   "outputs": [],
   "source": [
    "model.compile(loss=\"sparse_categorical_crossentropy\", optimizer=\"sgd\", metrics=[\"accuracy\"])"
   ]
  },
  {
   "cell_type": "code",
   "execution_count": 17,
   "id": "dc0ae0b8-8c4f-4375-ab39-cf498b3b7b61",
   "metadata": {},
   "outputs": [
    {
     "data": {
      "text/plain": [
       "(248260,)"
      ]
     },
     "execution_count": 17,
     "metadata": {},
     "output_type": "execute_result"
    }
   ],
   "source": [
    "y_train.shape"
   ]
  },
  {
   "cell_type": "code",
   "execution_count": 11,
   "id": "e7d9a4d6-6068-4379-846f-45b7cb6140fb",
   "metadata": {},
   "outputs": [
    {
     "name": "stdout",
     "output_type": "stream",
     "text": [
      "Epoch 1/30\n",
      "\u001b[1m7759/7759\u001b[0m \u001b[32m━━━━━━━━━━━━━━━━━━━━\u001b[0m\u001b[37m\u001b[0m \u001b[1m12s\u001b[0m 2ms/step - accuracy: 0.9364 - loss: 0.1982 - val_accuracy: 0.9728 - val_loss: 0.0631\n",
      "Epoch 2/30\n",
      "\u001b[1m7759/7759\u001b[0m \u001b[32m━━━━━━━━━━━━━━━━━━━━\u001b[0m\u001b[37m\u001b[0m \u001b[1m11s\u001b[0m 1ms/step - accuracy: 0.9721 - loss: 0.0643 - val_accuracy: 0.9738 - val_loss: 0.0611\n",
      "Epoch 3/30\n",
      "\u001b[1m7759/7759\u001b[0m \u001b[32m━━━━━━━━━━━━━━━━━━━━\u001b[0m\u001b[37m\u001b[0m \u001b[1m11s\u001b[0m 1ms/step - accuracy: 0.9729 - loss: 0.0626 - val_accuracy: 0.9742 - val_loss: 0.0599\n",
      "Epoch 4/30\n",
      "\u001b[1m7759/7759\u001b[0m \u001b[32m━━━━━━━━━━━━━━━━━━━━\u001b[0m\u001b[37m\u001b[0m \u001b[1m11s\u001b[0m 1ms/step - accuracy: 0.9734 - loss: 0.0614 - val_accuracy: 0.9746 - val_loss: 0.0590\n",
      "Epoch 5/30\n",
      "\u001b[1m7759/7759\u001b[0m \u001b[32m━━━━━━━━━━━━━━━━━━━━\u001b[0m\u001b[37m\u001b[0m \u001b[1m12s\u001b[0m 2ms/step - accuracy: 0.9737 - loss: 0.0604 - val_accuracy: 0.9753 - val_loss: 0.0581\n",
      "Epoch 6/30\n",
      "\u001b[1m7759/7759\u001b[0m \u001b[32m━━━━━━━━━━━━━━━━━━━━\u001b[0m\u001b[37m\u001b[0m \u001b[1m12s\u001b[0m 1ms/step - accuracy: 0.9743 - loss: 0.0594 - val_accuracy: 0.9760 - val_loss: 0.0571\n",
      "Epoch 7/30\n",
      "\u001b[1m7759/7759\u001b[0m \u001b[32m━━━━━━━━━━━━━━━━━━━━\u001b[0m\u001b[37m\u001b[0m \u001b[1m11s\u001b[0m 1ms/step - accuracy: 0.9748 - loss: 0.0584 - val_accuracy: 0.9763 - val_loss: 0.0562\n",
      "Epoch 8/30\n",
      "\u001b[1m7759/7759\u001b[0m \u001b[32m━━━━━━━━━━━━━━━━━━━━\u001b[0m\u001b[37m\u001b[0m \u001b[1m11s\u001b[0m 1ms/step - accuracy: 0.9753 - loss: 0.0574 - val_accuracy: 0.9768 - val_loss: 0.0554\n",
      "Epoch 9/30\n",
      "\u001b[1m7759/7759\u001b[0m \u001b[32m━━━━━━━━━━━━━━━━━━━━\u001b[0m\u001b[37m\u001b[0m \u001b[1m11s\u001b[0m 1ms/step - accuracy: 0.9756 - loss: 0.0565 - val_accuracy: 0.9773 - val_loss: 0.0545\n",
      "Epoch 10/30\n",
      "\u001b[1m7759/7759\u001b[0m \u001b[32m━━━━━━━━━━━━━━━━━━━━\u001b[0m\u001b[37m\u001b[0m \u001b[1m11s\u001b[0m 1ms/step - accuracy: 0.9760 - loss: 0.0556 - val_accuracy: 0.9775 - val_loss: 0.0537\n",
      "Epoch 11/30\n",
      "\u001b[1m7759/7759\u001b[0m \u001b[32m━━━━━━━━━━━━━━━━━━━━\u001b[0m\u001b[37m\u001b[0m \u001b[1m11s\u001b[0m 1ms/step - accuracy: 0.9764 - loss: 0.0548 - val_accuracy: 0.9778 - val_loss: 0.0529\n",
      "Epoch 12/30\n",
      "\u001b[1m7759/7759\u001b[0m \u001b[32m━━━━━━━━━━━━━━━━━━━━\u001b[0m\u001b[37m\u001b[0m \u001b[1m11s\u001b[0m 1ms/step - accuracy: 0.9767 - loss: 0.0539 - val_accuracy: 0.9780 - val_loss: 0.0522\n",
      "Epoch 13/30\n",
      "\u001b[1m7759/7759\u001b[0m \u001b[32m━━━━━━━━━━━━━━━━━━━━\u001b[0m\u001b[37m\u001b[0m \u001b[1m11s\u001b[0m 1ms/step - accuracy: 0.9771 - loss: 0.0531 - val_accuracy: 0.9782 - val_loss: 0.0515\n",
      "Epoch 14/30\n",
      "\u001b[1m7759/7759\u001b[0m \u001b[32m━━━━━━━━━━━━━━━━━━━━\u001b[0m\u001b[37m\u001b[0m \u001b[1m11s\u001b[0m 1ms/step - accuracy: 0.9774 - loss: 0.0524 - val_accuracy: 0.9784 - val_loss: 0.0508\n",
      "Epoch 15/30\n",
      "\u001b[1m7759/7759\u001b[0m \u001b[32m━━━━━━━━━━━━━━━━━━━━\u001b[0m\u001b[37m\u001b[0m \u001b[1m11s\u001b[0m 1ms/step - accuracy: 0.9777 - loss: 0.0516 - val_accuracy: 0.9786 - val_loss: 0.0502\n",
      "Epoch 16/30\n",
      "\u001b[1m7759/7759\u001b[0m \u001b[32m━━━━━━━━━━━━━━━━━━━━\u001b[0m\u001b[37m\u001b[0m \u001b[1m11s\u001b[0m 1ms/step - accuracy: 0.9779 - loss: 0.0509 - val_accuracy: 0.9789 - val_loss: 0.0496\n",
      "Epoch 17/30\n",
      "\u001b[1m7759/7759\u001b[0m \u001b[32m━━━━━━━━━━━━━━━━━━━━\u001b[0m\u001b[37m\u001b[0m \u001b[1m11s\u001b[0m 1ms/step - accuracy: 0.9781 - loss: 0.0502 - val_accuracy: 0.9791 - val_loss: 0.0490\n",
      "Epoch 18/30\n",
      "\u001b[1m7759/7759\u001b[0m \u001b[32m━━━━━━━━━━━━━━━━━━━━\u001b[0m\u001b[37m\u001b[0m \u001b[1m11s\u001b[0m 1ms/step - accuracy: 0.9783 - loss: 0.0496 - val_accuracy: 0.9792 - val_loss: 0.0486\n",
      "Epoch 19/30\n",
      "\u001b[1m7759/7759\u001b[0m \u001b[32m━━━━━━━━━━━━━━━━━━━━\u001b[0m\u001b[37m\u001b[0m \u001b[1m11s\u001b[0m 1ms/step - accuracy: 0.9784 - loss: 0.0490 - val_accuracy: 0.9794 - val_loss: 0.0481\n",
      "Epoch 20/30\n",
      "\u001b[1m7759/7759\u001b[0m \u001b[32m━━━━━━━━━━━━━━━━━━━━\u001b[0m\u001b[37m\u001b[0m \u001b[1m11s\u001b[0m 1ms/step - accuracy: 0.9785 - loss: 0.0485 - val_accuracy: 0.9794 - val_loss: 0.0476\n",
      "Epoch 21/30\n",
      "\u001b[1m7759/7759\u001b[0m \u001b[32m━━━━━━━━━━━━━━━━━━━━\u001b[0m\u001b[37m\u001b[0m \u001b[1m11s\u001b[0m 1ms/step - accuracy: 0.9786 - loss: 0.0480 - val_accuracy: 0.9795 - val_loss: 0.0472\n",
      "Epoch 22/30\n",
      "\u001b[1m7759/7759\u001b[0m \u001b[32m━━━━━━━━━━━━━━━━━━━━\u001b[0m\u001b[37m\u001b[0m \u001b[1m11s\u001b[0m 1ms/step - accuracy: 0.9788 - loss: 0.0475 - val_accuracy: 0.9796 - val_loss: 0.0468\n",
      "Epoch 23/30\n",
      "\u001b[1m7759/7759\u001b[0m \u001b[32m━━━━━━━━━━━━━━━━━━━━\u001b[0m\u001b[37m\u001b[0m \u001b[1m11s\u001b[0m 1ms/step - accuracy: 0.9789 - loss: 0.0470 - val_accuracy: 0.9797 - val_loss: 0.0465\n",
      "Epoch 24/30\n",
      "\u001b[1m7759/7759\u001b[0m \u001b[32m━━━━━━━━━━━━━━━━━━━━\u001b[0m\u001b[37m\u001b[0m \u001b[1m11s\u001b[0m 1ms/step - accuracy: 0.9789 - loss: 0.0466 - val_accuracy: 0.9799 - val_loss: 0.0461\n",
      "Epoch 25/30\n",
      "\u001b[1m7759/7759\u001b[0m \u001b[32m━━━━━━━━━━━━━━━━━━━━\u001b[0m\u001b[37m\u001b[0m \u001b[1m11s\u001b[0m 1ms/step - accuracy: 0.9790 - loss: 0.0462 - val_accuracy: 0.9799 - val_loss: 0.0459\n",
      "Epoch 26/30\n",
      "\u001b[1m7759/7759\u001b[0m \u001b[32m━━━━━━━━━━━━━━━━━━━━\u001b[0m\u001b[37m\u001b[0m \u001b[1m11s\u001b[0m 1ms/step - accuracy: 0.9791 - loss: 0.0459 - val_accuracy: 0.9800 - val_loss: 0.0456\n",
      "Epoch 27/30\n",
      "\u001b[1m7759/7759\u001b[0m \u001b[32m━━━━━━━━━━━━━━━━━━━━\u001b[0m\u001b[37m\u001b[0m \u001b[1m11s\u001b[0m 1ms/step - accuracy: 0.9792 - loss: 0.0455 - val_accuracy: 0.9801 - val_loss: 0.0454\n",
      "Epoch 28/30\n",
      "\u001b[1m7759/7759\u001b[0m \u001b[32m━━━━━━━━━━━━━━━━━━━━\u001b[0m\u001b[37m\u001b[0m \u001b[1m11s\u001b[0m 1ms/step - accuracy: 0.9795 - loss: 0.0452 - val_accuracy: 0.9799 - val_loss: 0.0453\n",
      "Epoch 29/30\n",
      "\u001b[1m7759/7759\u001b[0m \u001b[32m━━━━━━━━━━━━━━━━━━━━\u001b[0m\u001b[37m\u001b[0m \u001b[1m11s\u001b[0m 1ms/step - accuracy: 0.9795 - loss: 0.0449 - val_accuracy: 0.9800 - val_loss: 0.0450\n",
      "Epoch 30/30\n",
      "\u001b[1m7759/7759\u001b[0m \u001b[32m━━━━━━━━━━━━━━━━━━━━\u001b[0m\u001b[37m\u001b[0m \u001b[1m11s\u001b[0m 1ms/step - accuracy: 0.9796 - loss: 0.0447 - val_accuracy: 0.9801 - val_loss: 0.0448\n"
     ]
    }
   ],
   "source": [
    "history = model.fit(X_train, y_train, epochs=30, validation_data=(X_valid, y_valid))"
   ]
  },
  {
   "cell_type": "code",
   "execution_count": 15,
   "id": "b81fe2f7-f1de-4ee9-b0c8-1503b0ab96f7",
   "metadata": {},
   "outputs": [
    {
     "name": "stdout",
     "output_type": "stream",
     "text": [
      "\u001b[1m2587/2587\u001b[0m \u001b[32m━━━━━━━━━━━━━━━━━━━━\u001b[0m\u001b[37m\u001b[0m \u001b[1m2s\u001b[0m 662us/step\n"
     ]
    },
    {
     "data": {
      "text/plain": [
       "array([[ True, False, False, ..., False, False, False],\n",
       "       [ True, False, False, ..., False, False, False],\n",
       "       [ True, False, False, ..., False, False, False],\n",
       "       ...,\n",
       "       [False,  True, False, ..., False, False, False],\n",
       "       [ True, False, False, ..., False, False, False],\n",
       "       [False,  True, False, ..., False, False, False]])"
      ]
     },
     "execution_count": 15,
     "metadata": {},
     "output_type": "execute_result"
    }
   ],
   "source": [
    "y_pred_valid = (model.predict(X_valid) >= 0.5)"
   ]
  },
  {
   "cell_type": "code",
   "execution_count": 22,
   "id": "59ad17bf-59a0-4aed-9753-3af9d78d5695",
   "metadata": {},
   "outputs": [
    {
     "data": {
      "text/plain": [
       "np.float64(0.9800734707687846)"
      ]
     },
     "execution_count": 22,
     "metadata": {},
     "output_type": "execute_result"
    }
   ],
   "source": [
    "(y_pred_valid[:, 1] == y_valid).mean()"
   ]
  },
  {
   "cell_type": "code",
   "execution_count": 23,
   "id": "2b112ce3-eece-417d-a6ca-769e1bd8002a",
   "metadata": {},
   "outputs": [],
   "source": [
    "y_pred_valid = y_pred_valid[:, 1]"
   ]
  },
  {
   "cell_type": "code",
   "execution_count": 24,
   "id": "4c38a8dd-df65-4c09-baba-fa16f1da3622",
   "metadata": {},
   "outputs": [
    {
     "data": {
      "text/plain": [
       "<sklearn.metrics._plot.confusion_matrix.ConfusionMatrixDisplay at 0x1e8cd777760>"
      ]
     },
     "execution_count": 24,
     "metadata": {},
     "output_type": "execute_result"
    },
    {
     "data": {
      "image/png": "[encoded data removed]",
      "text/plain": [
       "<Figure size 640x480 with 2 Axes>"
      ]
     },
     "metadata": {},
     "output_type": "display_data"
    }
   ],
   "source": [
    "ConfusionMatrixDisplay.from_predictions(y_true=y_valid, y_pred=y_pred_valid, normalize=\"true\", values_format=\".2%\")"
   ]
  },
  {
   "cell_type": "code",
   "execution_count": 25,
   "id": "73c20b57-afae-49cd-91d5-8f463a576c66",
   "metadata": {},
   "outputs": [],
   "source": [
    "import pickle"
   ]
  },
  {
   "cell_type": "code",
   "execution_count": 26,
   "id": "ad2d07ed-6a1f-47d5-848d-e3a9dc5339df",
   "metadata": {},
   "outputs": [],
   "source": [
    "with open(\"first_dnn.pkl\", \"wb\") as file:\n",
    "    pickle.dump(model, file)"
   ]
  },
  {
   "cell_type": "code",
   "execution_count": 33,
   "id": "831aaff1-2a1d-40bf-8e78-3fdbe0de34f9",
   "metadata": {},
   "outputs": [],
   "source": [
    "tf.random.set_seed(42)\n",
    "model = tf.keras.Sequential()\n",
    "model.add(tf.keras.layers.Dense(100, activation=\"relu\"))\n",
    "model.add(tf.keras.layers.Dense(100, activation=\"relu\"))\n",
    "model.add(tf.keras.layers.Dense(100, activation=\"relu\"))\n",
    "model.add(tf.keras.layers.Dense(100, activation=\"relu\"))\n",
    "model.add(tf.keras.layers.Dense(100, activation=\"relu\"))\n",
    "model.add(tf.keras.layers.Dense(2, activation=\"softmax\"))\n",
    "\n",
    "model.compile(loss=\"sparse_categorical_crossentropy\", optimizer=\"sgd\", metrics=[\"accuracy\", \"f1_score\"])"
   ]
  },
  {
   "cell_type": "code",
   "execution_count": 34,
   "id": "abaeda5d-7518-4ec1-9b22-ba0397c5fc46",
   "metadata": {},
   "outputs": [
    {
     "name": "stdout",
     "output_type": "stream",
     "text": [
      "Epoch 1/30\n",
      "\u001b[1m7759/7759\u001b[0m \u001b[32m━━━━━━━━━━━━━━━━━━━━\u001b[0m\u001b[37m\u001b[0m \u001b[1m16s\u001b[0m 2ms/step - accuracy: 0.9262 - f1_score: 0.4830 - loss: 0.1589 - val_accuracy: 0.9735 - val_f1_score: 0.5020 - val_loss: 0.0607\n",
      "Epoch 2/30\n",
      "\u001b[1m7759/7759\u001b[0m \u001b[32m━━━━━━━━━━━━━━━━━━━━\u001b[0m\u001b[37m\u001b[0m \u001b[1m14s\u001b[0m 2ms/step - accuracy: 0.9730 - f1_score: 0.4994 - loss: 0.0616 - val_accuracy: 0.9753 - val_f1_score: 0.5006 - val_loss: 0.0572\n",
      "Epoch 3/30\n",
      "\u001b[1m7759/7759\u001b[0m \u001b[32m━━━━━━━━━━━━━━━━━━━━\u001b[0m\u001b[37m\u001b[0m \u001b[1m15s\u001b[0m 2ms/step - accuracy: 0.9742 - f1_score: 0.4990 - loss: 0.0583 - val_accuracy: 0.9764 - val_f1_score: 0.5000 - val_loss: 0.0547\n",
      "Epoch 4/30\n",
      "\u001b[1m7759/7759\u001b[0m \u001b[32m━━━━━━━━━━━━━━━━━━━━\u001b[0m\u001b[37m\u001b[0m \u001b[1m16s\u001b[0m 2ms/step - accuracy: 0.9753 - f1_score: 0.4987 - loss: 0.0557 - val_accuracy: 0.9771 - val_f1_score: 0.4998 - val_loss: 0.0529\n",
      "Epoch 5/30\n",
      "\u001b[1m7759/7759\u001b[0m \u001b[32m━━━━━━━━━━━━━━━━━━━━\u001b[0m\u001b[37m\u001b[0m \u001b[1m15s\u001b[0m 2ms/step - accuracy: 0.9762 - f1_score: 0.4983 - loss: 0.0535 - val_accuracy: 0.9777 - val_f1_score: 0.4991 - val_loss: 0.0511\n",
      "Epoch 6/30\n",
      "\u001b[1m7759/7759\u001b[0m \u001b[32m━━━━━━━━━━━━━━━━━━━━\u001b[0m\u001b[37m\u001b[0m \u001b[1m17s\u001b[0m 2ms/step - accuracy: 0.9770 - f1_score: 0.4979 - loss: 0.0515 - val_accuracy: 0.9780 - val_f1_score: 0.4989 - val_loss: 0.0498\n",
      "Epoch 7/30\n",
      "\u001b[1m7759/7759\u001b[0m \u001b[32m━━━━━━━━━━━━━━━━━━━━\u001b[0m\u001b[37m\u001b[0m \u001b[1m15s\u001b[0m 2ms/step - accuracy: 0.9779 - f1_score: 0.4974 - loss: 0.0496 - val_accuracy: 0.9783 - val_f1_score: 0.4987 - val_loss: 0.0486\n",
      "Epoch 8/30\n",
      "\u001b[1m7759/7759\u001b[0m \u001b[32m━━━━━━━━━━━━━━━━━━━━\u001b[0m\u001b[37m\u001b[0m \u001b[1m15s\u001b[0m 2ms/step - accuracy: 0.9783 - f1_score: 0.4971 - loss: 0.0480 - val_accuracy: 0.9788 - val_f1_score: 0.4981 - val_loss: 0.0475\n",
      "Epoch 9/30\n",
      "\u001b[1m7759/7759\u001b[0m \u001b[32m━━━━━━━━━━━━━━━━━━━━\u001b[0m\u001b[37m\u001b[0m \u001b[1m15s\u001b[0m 2ms/step - accuracy: 0.9789 - f1_score: 0.4968 - loss: 0.0467 - val_accuracy: 0.9790 - val_f1_score: 0.4978 - val_loss: 0.0469\n",
      "Epoch 10/30\n",
      "\u001b[1m7759/7759\u001b[0m \u001b[32m━━━━━━━━━━━━━━━━━━━━\u001b[0m\u001b[37m\u001b[0m \u001b[1m15s\u001b[0m 2ms/step - accuracy: 0.9791 - f1_score: 0.4967 - loss: 0.0458 - val_accuracy: 0.9792 - val_f1_score: 0.4974 - val_loss: 0.0461\n",
      "Epoch 11/30\n",
      "\u001b[1m7759/7759\u001b[0m \u001b[32m━━━━━━━━━━━━━━━━━━━━\u001b[0m\u001b[37m\u001b[0m \u001b[1m15s\u001b[0m 2ms/step - accuracy: 0.9793 - f1_score: 0.4967 - loss: 0.0451 - val_accuracy: 0.9793 - val_f1_score: 0.4975 - val_loss: 0.0456\n",
      "Epoch 12/30\n",
      "\u001b[1m7759/7759\u001b[0m \u001b[32m━━━━━━━━━━━━━━━━━━━━\u001b[0m\u001b[37m\u001b[0m \u001b[1m15s\u001b[0m 2ms/step - accuracy: 0.9795 - f1_score: 0.4967 - loss: 0.0445 - val_accuracy: 0.9793 - val_f1_score: 0.4974 - val_loss: 0.0454\n",
      "Epoch 13/30\n",
      "\u001b[1m7759/7759\u001b[0m \u001b[32m━━━━━━━━━━━━━━━━━━━━\u001b[0m\u001b[37m\u001b[0m \u001b[1m15s\u001b[0m 2ms/step - accuracy: 0.9797 - f1_score: 0.4966 - loss: 0.0440 - val_accuracy: 0.9793 - val_f1_score: 0.4974 - val_loss: 0.0453\n",
      "Epoch 14/30\n",
      "\u001b[1m7759/7759\u001b[0m \u001b[32m━━━━━━━━━━━━━━━━━━━━\u001b[0m\u001b[37m\u001b[0m \u001b[1m20s\u001b[0m 2ms/step - accuracy: 0.9798 - f1_score: 0.4965 - loss: 0.0436 - val_accuracy: 0.9795 - val_f1_score: 0.4972 - val_loss: 0.0451\n",
      "Epoch 15/30\n",
      "\u001b[1m7759/7759\u001b[0m \u001b[32m━━━━━━━━━━━━━━━━━━━━\u001b[0m\u001b[37m\u001b[0m \u001b[1m15s\u001b[0m 2ms/step - accuracy: 0.9800 - f1_score: 0.4965 - loss: 0.0433 - val_accuracy: 0.9798 - val_f1_score: 0.4967 - val_loss: 0.0441\n",
      "Epoch 16/30\n",
      "\u001b[1m7759/7759\u001b[0m \u001b[32m━━━━━━━━━━━━━━━━━━━━\u001b[0m\u001b[37m\u001b[0m \u001b[1m15s\u001b[0m 2ms/step - accuracy: 0.9800 - f1_score: 0.4964 - loss: 0.0430 - val_accuracy: 0.9798 - val_f1_score: 0.4970 - val_loss: 0.0443\n",
      "Epoch 17/30\n",
      "\u001b[1m7759/7759\u001b[0m \u001b[32m━━━━━━━━━━━━━━━━━━━━\u001b[0m\u001b[37m\u001b[0m \u001b[1m15s\u001b[0m 2ms/step - accuracy: 0.9801 - f1_score: 0.4965 - loss: 0.0429 - val_accuracy: 0.9798 - val_f1_score: 0.4967 - val_loss: 0.0441\n",
      "Epoch 18/30\n",
      "\u001b[1m7759/7759\u001b[0m \u001b[32m━━━━━━━━━━━━━━━━━━━━\u001b[0m\u001b[37m\u001b[0m \u001b[1m15s\u001b[0m 2ms/step - accuracy: 0.9801 - f1_score: 0.4964 - loss: 0.0427 - val_accuracy: 0.9801 - val_f1_score: 0.4962 - val_loss: 0.0438\n",
      "Epoch 19/30\n",
      "\u001b[1m7759/7759\u001b[0m \u001b[32m━━━━━━━━━━━━━━━━━━━━\u001b[0m\u001b[37m\u001b[0m \u001b[1m15s\u001b[0m 2ms/step - accuracy: 0.9802 - f1_score: 0.4964 - loss: 0.0425 - val_accuracy: 0.9799 - val_f1_score: 0.4968 - val_loss: 0.0438\n",
      "Epoch 20/30\n",
      "\u001b[1m7759/7759\u001b[0m \u001b[32m━━━━━━━━━━━━━━━━━━━━\u001b[0m\u001b[37m\u001b[0m \u001b[1m15s\u001b[0m 2ms/step - accuracy: 0.9802 - f1_score: 0.4964 - loss: 0.0423 - val_accuracy: 0.9800 - val_f1_score: 0.4966 - val_loss: 0.0437\n",
      "Epoch 21/30\n",
      "\u001b[1m7759/7759\u001b[0m \u001b[32m━━━━━━━━━━━━━━━━━━━━\u001b[0m\u001b[37m\u001b[0m \u001b[1m15s\u001b[0m 2ms/step - accuracy: 0.9802 - f1_score: 0.4964 - loss: 0.0422 - val_accuracy: 0.9804 - val_f1_score: 0.4959 - val_loss: 0.0434\n",
      "Epoch 22/30\n",
      "\u001b[1m7759/7759\u001b[0m \u001b[32m━━━━━━━━━━━━━━━━━━━━\u001b[0m\u001b[37m\u001b[0m \u001b[1m19s\u001b[0m 2ms/step - accuracy: 0.9803 - f1_score: 0.4963 - loss: 0.0420 - val_accuracy: 0.9803 - val_f1_score: 0.4958 - val_loss: 0.0431\n",
      "Epoch 23/30\n",
      "\u001b[1m7759/7759\u001b[0m \u001b[32m━━━━━━━━━━━━━━━━━━━━\u001b[0m\u001b[37m\u001b[0m \u001b[1m17s\u001b[0m 2ms/step - accuracy: 0.9803 - f1_score: 0.4963 - loss: 0.0418 - val_accuracy: 0.9804 - val_f1_score: 0.4956 - val_loss: 0.0432\n",
      "Epoch 24/30\n",
      "\u001b[1m7759/7759\u001b[0m \u001b[32m━━━━━━━━━━━━━━━━━━━━\u001b[0m\u001b[37m\u001b[0m \u001b[1m18s\u001b[0m 2ms/step - accuracy: 0.9804 - f1_score: 0.4962 - loss: 0.0417 - val_accuracy: 0.9804 - val_f1_score: 0.4957 - val_loss: 0.0429\n",
      "Epoch 25/30\n",
      "\u001b[1m7759/7759\u001b[0m \u001b[32m━━━━━━━━━━━━━━━━━━━━\u001b[0m\u001b[37m\u001b[0m \u001b[1m19s\u001b[0m 2ms/step - accuracy: 0.9804 - f1_score: 0.4963 - loss: 0.0416 - val_accuracy: 0.9804 - val_f1_score: 0.4956 - val_loss: 0.0430\n",
      "Epoch 26/30\n",
      "\u001b[1m7759/7759\u001b[0m \u001b[32m━━━━━━━━━━━━━━━━━━━━\u001b[0m\u001b[37m\u001b[0m \u001b[1m19s\u001b[0m 2ms/step - accuracy: 0.9804 - f1_score: 0.4962 - loss: 0.0415 - val_accuracy: 0.9803 - val_f1_score: 0.4955 - val_loss: 0.0430\n",
      "Epoch 27/30\n",
      "\u001b[1m7759/7759\u001b[0m \u001b[32m━━━━━━━━━━━━━━━━━━━━\u001b[0m\u001b[37m\u001b[0m \u001b[1m17s\u001b[0m 2ms/step - accuracy: 0.9804 - f1_score: 0.4963 - loss: 0.0414 - val_accuracy: 0.9804 - val_f1_score: 0.4955 - val_loss: 0.0430\n",
      "Epoch 28/30\n",
      "\u001b[1m7759/7759\u001b[0m \u001b[32m━━━━━━━━━━━━━━━━━━━━\u001b[0m\u001b[37m\u001b[0m \u001b[1m17s\u001b[0m 2ms/step - accuracy: 0.9805 - f1_score: 0.4962 - loss: 0.0413 - val_accuracy: 0.9803 - val_f1_score: 0.4954 - val_loss: 0.0429\n",
      "Epoch 29/30\n",
      "\u001b[1m7759/7759\u001b[0m \u001b[32m━━━━━━━━━━━━━━━━━━━━\u001b[0m\u001b[37m\u001b[0m \u001b[1m20s\u001b[0m 3ms/step - accuracy: 0.9806 - f1_score: 0.4962 - loss: 0.0412 - val_accuracy: 0.9804 - val_f1_score: 0.4954 - val_loss: 0.0426\n",
      "Epoch 30/30\n",
      "\u001b[1m7759/7759\u001b[0m \u001b[32m━━━━━━━━━━━━━━━━━━━━\u001b[0m\u001b[37m\u001b[0m \u001b[1m22s\u001b[0m 3ms/step - accuracy: 0.9806 - f1_score: 0.4962 - loss: 0.0411 - val_accuracy: 0.9803 - val_f1_score: 0.4956 - val_loss: 0.0427\n"
     ]
    }
   ],
   "source": [
    "history = model.fit(X_train, y_train, epochs=30, validation_data=(X_valid, y_valid))"
   ]
  },
  {
   "cell_type": "code",
   "execution_count": 35,
   "id": "c98ac0fc-0559-43be-800f-55988fdb389b",
   "metadata": {},
   "outputs": [
    {
     "name": "stdout",
     "output_type": "stream",
     "text": [
      "\u001b[1m2587/2587\u001b[0m \u001b[32m━━━━━━━━━━━━━━━━━━━━\u001b[0m\u001b[37m\u001b[0m \u001b[1m3s\u001b[0m 1ms/step\n"
     ]
    },
    {
     "data": {
      "text/plain": [
       "<sklearn.metrics._plot.confusion_matrix.ConfusionMatrixDisplay at 0x1e8cf6bf8e0>"
      ]
     },
     "execution_count": 35,
     "metadata": {},
     "output_type": "execute_result"
    },
    {
     "data": {
      "image/png": "[encoded data removed]",
      "text/plain": [
       "<Figure size 640x480 with 2 Axes>"
      ]
     },
     "metadata": {},
     "output_type": "display_data"
    }
   ],
   "source": [
    "y_pred_valid = (model.predict(X_valid) >= 0.5)\n",
    "y_pred_valid = y_pred_valid[:, 1]\n",
    "ConfusionMatrixDisplay.from_predictions(y_true=y_valid, y_pred=y_pred_valid, normalize=\"true\", values_format=\".2%\")"
   ]
  },
  {
   "cell_type": "code",
   "execution_count": 36,
   "id": "e21372ad-5cb6-4f61-b64e-24bfb968265d",
   "metadata": {},
   "outputs": [],
   "source": [
    "with open(\"first_dnn2.pkl\", \"wb\") as file:\n",
    "    pickle.dump(model, file)"
   ]
  },
  {
   "cell_type": "code",
   "execution_count": 40,
   "id": "d033d527-080b-475f-8229-d736cf1e5fe0",
   "metadata": {},
   "outputs": [
    {
     "name": "stdout",
     "output_type": "stream",
     "text": [
      "\u001b[1m2587/2587\u001b[0m \u001b[32m━━━━━━━━━━━━━━━━━━━━\u001b[0m\u001b[37m\u001b[0m \u001b[1m2s\u001b[0m 744us/step\n"
     ]
    },
    {
     "data": {
      "text/plain": [
       "<sklearn.metrics._plot.confusion_matrix.ConfusionMatrixDisplay at 0x1e8cd5eb4c0>"
      ]
     },
     "execution_count": 40,
     "metadata": {},
     "output_type": "execute_result"
    },
    {
     "data": {
      "image/png": "[encoded data removed]",
      "text/plain": [
       "<Figure size 640x480 with 2 Axes>"
      ]
     },
     "metadata": {},
     "output_type": "display_data"
    }
   ],
   "source": [
    "y_pred_valid = (model.predict(X_test) >= 0.5)\n",
    "y_pred_valid = y_pred_valid[:, 1]\n",
    "ConfusionMatrixDisplay.from_predictions(y_true=y_test, y_pred=y_pred_valid, normalize=\"true\", values_format=\".2%\")"
   ]
  },
  {
   "cell_type": "code",
   "execution_count": 38,
   "id": "051b1528-32d3-4a69-a2c6-28673b178a36",
   "metadata": {},
   "outputs": [
    {
     "data": {
      "text/plain": [
       "((248260, 11), (82754,))"
      ]
     },
     "execution_count": 38,
     "metadata": {},
     "output_type": "execute_result"
    }
   ],
   "source": [
    "X_test.shape, y_test.shape"
   ]
  },
  {
   "cell_type": "code",
   "execution_count": null,
   "id": "e4f02991-e5e0-4a08-84ba-f90eacba327c",
   "metadata": {},
   "outputs": [],
   "source": []
  }
 ],
 "metadata": {
  "kernelspec": {
   "display_name": "Python 3 (ipykernel)",
   "language": "python",
   "name": "python3"
  },
  "language_info": {
   "codemirror_mode": {
    "name": "ipython",
    "version": 3
   },
   "file_extension": ".py",
   "mimetype": "text/x-python",
   "name": "python",
   "nbconvert_exporter": "python",
   "pygments_lexer": "ipython3",
   "version": "3.10.0"
  }
 },
 "nbformat": 4,
 "nbformat_minor": 5
}
