{
 "cells": [
  {
   "cell_type": "code",
   "execution_count": 1,
   "id": "787dba11-8a1a-43cb-ac6b-f95ccc52923b",
   "metadata": {},
   "outputs": [],
   "source": [
    "import pandas as pd\n",
    "from sklearn.model_selection import train_test_split"
   ]
  },
  {
   "cell_type": "code",
   "execution_count": 80,
   "id": "5aa552f0-65dc-4748-afdc-c59bf9db03cc",
   "metadata": {},
   "outputs": [],
   "source": [
    "df = pd.read_csv(\"./Playground/depression_data.csv\")"
   ]
  },
  {
   "cell_type": "code",
   "execution_count": 71,
   "id": "93c7c4df-87cc-46ea-92ad-651cb0a60cc2",
   "metadata": {},
   "outputs": [],
   "source": [
    "import numpy as np\n",
    "import pandas as pd\n",
    "from sklearn.base import BaseEstimator, TransformerMixin\n",
    "from sklearn.compose import ColumnTransformer\n",
    "from sklearn.preprocessing import StandardScaler\n",
    "\n",
    "class MyColumnTransformer(BaseEstimator, TransformerMixin):\n",
    "    def __init__(self):\n",
    "        self.pipeline = ColumnTransformer([\n",
    "            (\"income\", StandardScaler(), [\"Income\", \"Income_log\", \"Age\"])\n",
    "        ], remainder=\"passthrough\")\n",
    "    \n",
    "    def fit(self, X, y=None):\n",
    "        self.pipeline.fit(self.first_preprocess(X))\n",
    "        return self\n",
    "\n",
    "    def transform(self, X):\n",
    "        return self.pipeline.transform(self.first_preprocess(X))\n",
    "\n",
    "    def fit_transform(self, X, y=None):\n",
    "        return self.pipeline.fit_transform(self.first_preprocess(X))\n",
    "\n",
    "    def first_preprocess(self, df):\n",
    "        df = df.copy()\n",
    "        \n",
    "        df.drop(\"Name\", axis=1, inplace=True)\n",
    "\n",
    "        df[\"Marital Status\"] = np.where(\n",
    "            df[\"Marital Status\"] == \"Divorced\", 0,\n",
    "            np.where(df[\"Marital Status\"] == \"Married\", 1, \n",
    "                     np.where(df[\"Marital Status\"] == \"Single\", 2, 3)\n",
    "                    )\n",
    "        )\n",
    "\n",
    "        df[\"Education Level\"] = np.where(\n",
    "            df[\"Education Level\"] == \"High School\", 0,\n",
    "            np.where(df[\"Education Level\"] == \"Associate Degree\", 1,  \n",
    "                     np.where(df[\"Education Level\"] == \"Bachelor's Degree\", 2,\n",
    "                              np.where(df[\"Education Level\"] == \"Master's Degree\", 3,\n",
    "                                       4)\n",
    "                             )\n",
    "                    )\n",
    "        )\n",
    "\n",
    "        df[\"Smoking Status\"] = np.where(\n",
    "            df[\"Smoking Status\"] == \"Non-smoker\", 0,\n",
    "            np.where(df[\"Smoking Status\"] == \"Former\", 1, 2)\n",
    "        )\n",
    "\n",
    "        df[\"Physical Activity Level\"] = np.where(\n",
    "            df[\"Physical Activity Level\"] == \"Sedentary\", 0,\n",
    "            np.where(df[\"Physical Activity Level\"] == \"Moderate\", 1, 2)\n",
    "        )\n",
    "\n",
    "        df[\"Employed\"] = (df[\"Employment Status\"] == \"Employed\").astype(np.int8)\n",
    "        df.drop(\"Employment Status\", axis=1, inplace=True)\n",
    "\n",
    "        df[\"Alcohol Consumption\"] = np.where(\n",
    "            df[\"Alcohol Consumption\"] == \"Low\", 0,\n",
    "            np.where(df[\"Alcohol Consumption\"] == \"Moderate\", 1, 2)\n",
    "        )\n",
    "\n",
    "        df[\"Dietary Habits\"] = np.where(\n",
    "            df[\"Dietary Habits\"] == \"Unhealthy\", 0,\n",
    "            np.where(df[\"Dietary Habits\"] == \"Moderate\", 1, 2)\n",
    "        )\n",
    "\n",
    "        df[\"Sleep Patterns\"] = np.where(\n",
    "            df[\"Sleep Patterns\"] == \"Poor\", 0,\n",
    "            np.where(df[\"Sleep Patterns\"] == \"Fair\", 1, 2)\n",
    "        )\n",
    "\n",
    "        df[\"Income_log\"] = np.log(df[\"Income\"])  \n",
    "\n",
    "        for colname in [\"History of Mental Illness\", \"History of Substance Abuse\", \n",
    "                        \"Family History of Depression\", \"Chronic Medical Conditions\"]:\n",
    "            df[colname] = (df[colname] == \"Yes\").astype(np.int8)\n",
    "\n",
    "        return df\n"
   ]
  },
  {
   "cell_type": "code",
   "execution_count": 72,
   "id": "189181e8-6055-430c-81ae-0fd44d8668aa",
   "metadata": {},
   "outputs": [],
   "source": [
    "ct = MyColumnTransformer()"
   ]
  },
  {
   "cell_type": "code",
   "execution_count": 73,
   "id": "717eabdd-96fe-421d-9044-19b3ad7a4daf",
   "metadata": {},
   "outputs": [],
   "source": [
    "dfz = ct.fit_transform(df)"
   ]
  },
  {
   "cell_type": "code",
   "execution_count": 74,
   "id": "d9e8c2d6-bb55-496b-a155-7191cca3e3b6",
   "metadata": {},
   "outputs": [],
   "source": [
    "dfx = dfz"
   ]
  },
  {
   "cell_type": "code",
   "execution_count": 76,
   "id": "15089d7f-963f-495e-8bfe-df86f5245641",
   "metadata": {},
   "outputs": [
    {
     "data": {
      "text/plain": [
       "((405282,), (405282,), (63,))"
      ]
     },
     "execution_count": 76,
     "metadata": {},
     "output_type": "execute_result"
    }
   ],
   "source": [
    "pd.Series(dfx[:, 0]).value_counts().shape, pd.Series(dfx[:, 1]).value_counts().shape, pd.Series(dfx[:, 2]).value_counts().shape"
   ]
  },
  {
   "cell_type": "code",
   "execution_count": 78,
   "id": "bc8556e9-b21e-4c4f-b446-023c2a9d4520",
   "metadata": {},
   "outputs": [
    {
     "data": {
      "text/plain": [
       "array([-0.60053188, -0.21309621, -0.99129761,  1.        ,  2.        ,\n",
       "        2.        ,  0.        ,  2.        ,  1.        ,  1.        ,\n",
       "        1.        ,  1.        ,  0.        ,  1.        ,  1.        ,\n",
       "        0.        ])"
      ]
     },
     "execution_count": 78,
     "metadata": {},
     "output_type": "execute_result"
    }
   ],
   "source": [
    "df[0]"
   ]
  },
  {
   "cell_type": "code",
   "execution_count": 81,
   "id": "507569ef-a147-4ffc-8dc7-d49871fc3b59",
   "metadata": {},
   "outputs": [],
   "source": [
    "cols = [\"Income\", \"Income_log\", \"Age\"] + list(df.drop([\"Name\", \"Age\", \"Income\"], axis=1).columns)"
   ]
  },
  {
   "cell_type": "code",
   "execution_count": 86,
   "id": "ad66b7b5-259d-4e43-8dc0-0895345859a5",
   "metadata": {},
   "outputs": [],
   "source": [
    "dfpreprocessed = pd.DataFrame(dfx, columns=cols)"
   ]
  },
  {
   "cell_type": "code",
   "execution_count": 83,
   "id": "7c195c2d-dfab-41a9-922f-c527836c0a4d",
   "metadata": {},
   "outputs": [],
   "source": [
    "dfpreprocessed.to_csv(\"full_prepocessed_data.csv\")"
   ]
  },
  {
   "cell_type": "code",
   "execution_count": 87,
   "id": "d1153a1c-39a9-454b-bc6c-cfeb06865d38",
   "metadata": {},
   "outputs": [],
   "source": [
    "dfpreprocessed.drop([\"Marital Status\", \"Family History of Depression\", \"History of Substance Abuse\"], inplace=True, axis=1)"
   ]
  },
  {
   "cell_type": "code",
   "execution_count": 88,
   "id": "22e09fd0-8ae6-441f-a80b-5d150ec6b108",
   "metadata": {},
   "outputs": [
    {
     "data": {
      "text/html": [
       "<div>\n",
       "<style scoped>\n",
       "    .dataframe tbody tr th:only-of-type {\n",
       "        vertical-align: middle;\n",
       "    }\n",
       "\n",
       "    .dataframe tbody tr th {\n",
       "        vertical-align: top;\n",
       "    }\n",
       "\n",
       "    .dataframe thead th {\n",
       "        text-align: right;\n",
       "    }\n",
       "</style>\n",
       "<table border=\"1\" class=\"dataframe\">\n",
       "  <thead>\n",
       "    <tr style=\"text-align: right;\">\n",
       "      <th></th>\n",
       "      <th>Income</th>\n",
       "      <th>Income_log</th>\n",
       "      <th>Age</th>\n",
       "      <th>Education Level</th>\n",
       "      <th>Number of Children</th>\n",
       "      <th>Smoking Status</th>\n",
       "      <th>Physical Activity Level</th>\n",
       "      <th>Employment Status</th>\n",
       "      <th>Alcohol Consumption</th>\n",
       "      <th>Dietary Habits</th>\n",
       "      <th>Sleep Patterns</th>\n",
       "      <th>History of Mental Illness</th>\n",
       "      <th>Chronic Medical Conditions</th>\n",
       "    </tr>\n",
       "  </thead>\n",
       "  <tbody>\n",
       "    <tr>\n",
       "      <th>0</th>\n",
       "      <td>-0.600532</td>\n",
       "      <td>-0.213096</td>\n",
       "      <td>-0.991298</td>\n",
       "      <td>2.0</td>\n",
       "      <td>2.0</td>\n",
       "      <td>0.0</td>\n",
       "      <td>2.0</td>\n",
       "      <td>1.0</td>\n",
       "      <td>1.0</td>\n",
       "      <td>1.0</td>\n",
       "      <td>1.0</td>\n",
       "      <td>0.0</td>\n",
       "      <td>0.0</td>\n",
       "    </tr>\n",
       "    <tr>\n",
       "      <th>1</th>\n",
       "      <td>-0.195730</td>\n",
       "      <td>0.228129</td>\n",
       "      <td>0.330380</td>\n",
       "      <td>0.0</td>\n",
       "      <td>1.0</td>\n",
       "      <td>0.0</td>\n",
       "      <td>0.0</td>\n",
       "      <td>2.0</td>\n",
       "      <td>0.0</td>\n",
       "      <td>1.0</td>\n",
       "      <td>1.0</td>\n",
       "      <td>0.0</td>\n",
       "      <td>1.0</td>\n",
       "    </tr>\n",
       "    <tr>\n",
       "      <th>2</th>\n",
       "      <td>1.838100</td>\n",
       "      <td>1.205121</td>\n",
       "      <td>1.596988</td>\n",
       "      <td>3.0</td>\n",
       "      <td>1.0</td>\n",
       "      <td>0.0</td>\n",
       "      <td>0.0</td>\n",
       "      <td>0.0</td>\n",
       "      <td>0.0</td>\n",
       "      <td>2.0</td>\n",
       "      <td>0.0</td>\n",
       "      <td>0.0</td>\n",
       "      <td>1.0</td>\n",
       "    </tr>\n",
       "    <tr>\n",
       "      <th>3</th>\n",
       "      <td>-1.001105</td>\n",
       "      <td>-1.090140</td>\n",
       "      <td>0.495590</td>\n",
       "      <td>3.0</td>\n",
       "      <td>3.0</td>\n",
       "      <td>0.0</td>\n",
       "      <td>1.0</td>\n",
       "      <td>1.0</td>\n",
       "      <td>1.0</td>\n",
       "      <td>0.0</td>\n",
       "      <td>0.0</td>\n",
       "      <td>0.0</td>\n",
       "      <td>0.0</td>\n",
       "    </tr>\n",
       "    <tr>\n",
       "      <th>4</th>\n",
       "      <td>-1.035510</td>\n",
       "      <td>-1.226881</td>\n",
       "      <td>-1.707206</td>\n",
       "      <td>0.0</td>\n",
       "      <td>0.0</td>\n",
       "      <td>0.0</td>\n",
       "      <td>0.0</td>\n",
       "      <td>0.0</td>\n",
       "      <td>1.0</td>\n",
       "      <td>1.0</td>\n",
       "      <td>1.0</td>\n",
       "      <td>0.0</td>\n",
       "      <td>0.0</td>\n",
       "    </tr>\n",
       "    <tr>\n",
       "      <th>...</th>\n",
       "      <td>...</td>\n",
       "      <td>...</td>\n",
       "      <td>...</td>\n",
       "      <td>...</td>\n",
       "      <td>...</td>\n",
       "      <td>...</td>\n",
       "      <td>...</td>\n",
       "      <td>...</td>\n",
       "      <td>...</td>\n",
       "      <td>...</td>\n",
       "      <td>...</td>\n",
       "      <td>...</td>\n",
       "      <td>...</td>\n",
       "    </tr>\n",
       "    <tr>\n",
       "      <th>413763</th>\n",
       "      <td>1.441799</td>\n",
       "      <td>1.080348</td>\n",
       "      <td>1.046289</td>\n",
       "      <td>3.0</td>\n",
       "      <td>0.0</td>\n",
       "      <td>1.0</td>\n",
       "      <td>1.0</td>\n",
       "      <td>0.0</td>\n",
       "      <td>2.0</td>\n",
       "      <td>2.0</td>\n",
       "      <td>0.0</td>\n",
       "      <td>0.0</td>\n",
       "      <td>1.0</td>\n",
       "    </tr>\n",
       "    <tr>\n",
       "      <th>413764</th>\n",
       "      <td>1.134778</td>\n",
       "      <td>0.970315</td>\n",
       "      <td>-1.266647</td>\n",
       "      <td>2.0</td>\n",
       "      <td>0.0</td>\n",
       "      <td>2.0</td>\n",
       "      <td>2.0</td>\n",
       "      <td>0.0</td>\n",
       "      <td>2.0</td>\n",
       "      <td>0.0</td>\n",
       "      <td>1.0</td>\n",
       "      <td>1.0</td>\n",
       "      <td>1.0</td>\n",
       "    </tr>\n",
       "    <tr>\n",
       "      <th>413765</th>\n",
       "      <td>0.657038</td>\n",
       "      <td>0.767153</td>\n",
       "      <td>0.440520</td>\n",
       "      <td>2.0</td>\n",
       "      <td>0.0</td>\n",
       "      <td>0.0</td>\n",
       "      <td>0.0</td>\n",
       "      <td>1.0</td>\n",
       "      <td>1.0</td>\n",
       "      <td>1.0</td>\n",
       "      <td>0.0</td>\n",
       "      <td>0.0</td>\n",
       "      <td>1.0</td>\n",
       "    </tr>\n",
       "    <tr>\n",
       "      <th>413766</th>\n",
       "      <td>-0.642590</td>\n",
       "      <td>-0.274139</td>\n",
       "      <td>1.211499</td>\n",
       "      <td>1.0</td>\n",
       "      <td>2.0</td>\n",
       "      <td>0.0</td>\n",
       "      <td>0.0</td>\n",
       "      <td>1.0</td>\n",
       "      <td>1.0</td>\n",
       "      <td>0.0</td>\n",
       "      <td>0.0</td>\n",
       "      <td>1.0</td>\n",
       "      <td>0.0</td>\n",
       "    </tr>\n",
       "    <tr>\n",
       "      <th>413767</th>\n",
       "      <td>1.389916</td>\n",
       "      <td>1.062665</td>\n",
       "      <td>0.715870</td>\n",
       "      <td>3.0</td>\n",
       "      <td>0.0</td>\n",
       "      <td>1.0</td>\n",
       "      <td>1.0</td>\n",
       "      <td>1.0</td>\n",
       "      <td>2.0</td>\n",
       "      <td>2.0</td>\n",
       "      <td>0.0</td>\n",
       "      <td>1.0</td>\n",
       "      <td>1.0</td>\n",
       "    </tr>\n",
       "  </tbody>\n",
       "</table>\n",
       "<p>413768 rows × 13 columns</p>\n",
       "</div>"
      ],
      "text/plain": [
       "          Income  Income_log       Age  Education Level  Number of Children  \\\n",
       "0      -0.600532   -0.213096 -0.991298              2.0                 2.0   \n",
       "1      -0.195730    0.228129  0.330380              0.0                 1.0   \n",
       "2       1.838100    1.205121  1.596988              3.0                 1.0   \n",
       "3      -1.001105   -1.090140  0.495590              3.0                 3.0   \n",
       "4      -1.035510   -1.226881 -1.707206              0.0                 0.0   \n",
       "...          ...         ...       ...              ...                 ...   \n",
       "413763  1.441799    1.080348  1.046289              3.0                 0.0   \n",
       "413764  1.134778    0.970315 -1.266647              2.0                 0.0   \n",
       "413765  0.657038    0.767153  0.440520              2.0                 0.0   \n",
       "413766 -0.642590   -0.274139  1.211499              1.0                 2.0   \n",
       "413767  1.389916    1.062665  0.715870              3.0                 0.0   \n",
       "\n",
       "        Smoking Status  Physical Activity Level  Employment Status  \\\n",
       "0                  0.0                      2.0                1.0   \n",
       "1                  0.0                      0.0                2.0   \n",
       "2                  0.0                      0.0                0.0   \n",
       "3                  0.0                      1.0                1.0   \n",
       "4                  0.0                      0.0                0.0   \n",
       "...                ...                      ...                ...   \n",
       "413763             1.0                      1.0                0.0   \n",
       "413764             2.0                      2.0                0.0   \n",
       "413765             0.0                      0.0                1.0   \n",
       "413766             0.0                      0.0                1.0   \n",
       "413767             1.0                      1.0                1.0   \n",
       "\n",
       "        Alcohol Consumption  Dietary Habits  Sleep Patterns  \\\n",
       "0                       1.0             1.0             1.0   \n",
       "1                       0.0             1.0             1.0   \n",
       "2                       0.0             2.0             0.0   \n",
       "3                       1.0             0.0             0.0   \n",
       "4                       1.0             1.0             1.0   \n",
       "...                     ...             ...             ...   \n",
       "413763                  2.0             2.0             0.0   \n",
       "413764                  2.0             0.0             1.0   \n",
       "413765                  1.0             1.0             0.0   \n",
       "413766                  1.0             0.0             0.0   \n",
       "413767                  2.0             2.0             0.0   \n",
       "\n",
       "        History of Mental Illness  Chronic Medical Conditions  \n",
       "0                             0.0                         0.0  \n",
       "1                             0.0                         1.0  \n",
       "2                             0.0                         1.0  \n",
       "3                             0.0                         0.0  \n",
       "4                             0.0                         0.0  \n",
       "...                           ...                         ...  \n",
       "413763                        0.0                         1.0  \n",
       "413764                        1.0                         1.0  \n",
       "413765                        0.0                         1.0  \n",
       "413766                        1.0                         0.0  \n",
       "413767                        1.0                         1.0  \n",
       "\n",
       "[413768 rows x 13 columns]"
      ]
     },
     "execution_count": 88,
     "metadata": {},
     "output_type": "execute_result"
    }
   ],
   "source": [
    "dfpreprocessed "
   ]
  },
  {
   "cell_type": "code",
   "execution_count": 89,
   "id": "0b97b008-db03-4166-89e9-9a0120e41252",
   "metadata": {},
   "outputs": [],
   "source": [
    "dfpreprocessed.to_csv(\"data_with_important_features.csv\")"
   ]
  },
  {
   "cell_type": "code",
   "execution_count": 90,
   "id": "786f60e7-3cc5-408c-8fdd-dd9c6acb9cb1",
   "metadata": {},
   "outputs": [],
   "source": [
    "X, y = dfpreprocessed.drop(\"Chronic Medical Conditions\", axis=1), dfpreprocessed[\"Chronic Medical Conditions\"]"
   ]
  },
  {
   "cell_type": "code",
   "execution_count": 91,
   "id": "a9095cd3-ead4-474d-a847-f389d391b485",
   "metadata": {},
   "outputs": [],
   "source": [
    "X_train, X_test = train_test_split(dfpreprocessed,stratify=y, train_size=0.8)"
   ]
  },
  {
   "cell_type": "code",
   "execution_count": 92,
   "id": "3cb09cb8-ea3b-4930-beee-8e35254a9b3b",
   "metadata": {},
   "outputs": [
    {
     "data": {
      "text/plain": [
       "((331014, 13), (82754, 13))"
      ]
     },
     "execution_count": 92,
     "metadata": {},
     "output_type": "execute_result"
    }
   ],
   "source": [
    "X_train.shape, X_test.shape"
   ]
  },
  {
   "cell_type": "code",
   "execution_count": 93,
   "id": "85f02775-76ca-49c7-871c-4770241c911a",
   "metadata": {},
   "outputs": [],
   "source": [
    "X_train, X_valid = train_test_split(X_train, stratify=X_train[\"Chronic Medical Conditions\"], train_size=0.75)"
   ]
  },
  {
   "cell_type": "code",
   "execution_count": 94,
   "id": "c7c377d9-c6eb-458b-99fb-48199321949a",
   "metadata": {},
   "outputs": [
    {
     "data": {
      "text/plain": [
       "((248260, 13), (82754, 13), (82754, 13))"
      ]
     },
     "execution_count": 94,
     "metadata": {},
     "output_type": "execute_result"
    }
   ],
   "source": [
    "X_train.shape, X_valid.shape, X_test.shape"
   ]
  },
  {
   "cell_type": "code",
   "execution_count": 97,
   "id": "16e1da92-54f9-499c-aedd-98619b213242",
   "metadata": {},
   "outputs": [],
   "source": [
    "X_train.to_csv('./data/train.csv', index=False)\n",
    "X_valid.to_csv('./data/valid.csv', index=False)\n",
    "X_test.to_csv('./data/test.csv', index=False)"
   ]
  },
  {
   "cell_type": "code",
   "execution_count": null,
   "id": "92bc1295-f519-4a05-a29d-9f8cb997f9e3",
   "metadata": {},
   "outputs": [],
   "source": []
  }
 ],
 "metadata": {
  "kernelspec": {
   "display_name": "Python 3 (ipykernel)",
   "language": "python",
   "name": "python3"
  },
  "language_info": {
   "codemirror_mode": {
    "name": "ipython",
    "version": 3
   },
   "file_extension": ".py",
   "mimetype": "text/x-python",
   "name": "python",
   "nbconvert_exporter": "python",
   "pygments_lexer": "ipython3",
   "version": "3.10.0"
  }
 },
 "nbformat": 4,
 "nbformat_minor": 5
}
