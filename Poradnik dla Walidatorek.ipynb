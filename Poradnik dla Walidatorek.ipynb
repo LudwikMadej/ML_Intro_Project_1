{
 "cells": [
  {
   "cell_type": "markdown",
   "id": "2ae3ff42-87f4-4d36-8284-b8ed1b552ddf",
   "metadata": {},
   "source": [
    "# Drogie Walidatorki,\n",
    "Życzę miłej lektury naszej pracy, mam nadzieję, że jest w jakikolwiek sposób czytelna a notatniki nie są takie złe. Jako, że miałem dowolność w sposobie zapisu modeli, to je zserializowałem. Może brzmi strasznie, ale nie jest. Poniżej poradnik jak się z nimi obchodzić. Dane do testu są w katalogu ./data w głownym katalogu.\n",
    "\n",
    "No dobra, a teraz jak się zabrać za modele? W razie jakbyście nie miały z tym do czynienia to już piszę:\n",
    "1. Zaimportuj pickle\n",
    "2. Wczytaj model (są już zfitowane)\n",
    "3. Każ mu przewidzieć przyszłość.\n",
    "4. Wybierz jakąś dobrą metrykę, żeby się zgadzało z tym co jest w modelowaniu.\n",
    "\n",
    "Na dole szybki pokaz, udanej zabawy!\n",
    "\n",
    "## UWAGA! JEŻELI MODEL KRZYCZY O NIEPOPRAWNYCH DANYCH DROPNIJCIE KOLUMNĘ 'Income'"
   ]
  },
  {
   "cell_type": "code",
   "execution_count": 1,
   "id": "cc50e336-4098-4e72-a081-8871dad87a63",
   "metadata": {},
   "outputs": [],
   "source": [
    "import pickle as pkl"
   ]
  },
  {
   "cell_type": "code",
   "execution_count": 2,
   "id": "2f115d20-86c3-4189-82b9-10a65509af96",
   "metadata": {},
   "outputs": [],
   "source": [
    "with open(\"./Milestone_3/models/first_dnn.pkl\", \"rb\") as file:\n",
    "    model = pkl.load(file)"
   ]
  },
  {
   "cell_type": "code",
   "execution_count": 3,
   "id": "3cb7a252-cfca-4b0e-b58b-65c3439bde1c",
   "metadata": {},
   "outputs": [],
   "source": [
    "import pandas as pd"
   ]
  },
  {
   "cell_type": "code",
   "execution_count": 4,
   "id": "2356fcd4-e4c7-4613-b87f-4b8572d61e19",
   "metadata": {},
   "outputs": [],
   "source": [
    "data = pd.read_csv(\"data/test.csv\")"
   ]
  },
  {
   "cell_type": "code",
   "execution_count": 5,
   "id": "49844e1a-9d25-4ec0-bbf7-1c77e7f5c8a3",
   "metadata": {},
   "outputs": [],
   "source": [
    "X_test, y_test = data.drop([\"Chronic Medical Conditions\", \"Income\"], axis=1), data[\"Chronic Medical Conditions\"]"
   ]
  },
  {
   "cell_type": "code",
   "execution_count": 6,
   "id": "9e56b286-b06d-4feb-91e5-8f6c870a918b",
   "metadata": {},
   "outputs": [
    {
     "name": "stdout",
     "output_type": "stream",
     "text": [
      "\u001b[1m2587/2587\u001b[0m \u001b[32m━━━━━━━━━━━━━━━━━━━━\u001b[0m\u001b[37m\u001b[0m \u001b[1m6s\u001b[0m 2ms/step   \n"
     ]
    }
   ],
   "source": [
    "y_pred = model.predict(X_test)"
   ]
  },
  {
   "cell_type": "code",
   "execution_count": 7,
   "id": "981393d0-1e2a-4d09-86da-b7bc16f25e62",
   "metadata": {},
   "outputs": [],
   "source": [
    "from sklearn.metrics import ConfusionMatrixDisplay"
   ]
  },
  {
   "cell_type": "markdown",
   "id": "364f13b2-a9ee-4fa6-86fb-078713af343b",
   "metadata": {},
   "source": [
    "Jako, że jest to sieć neuronowa, trzeba wybrać drugą kolumnę i wyznaczyć te większe od 0.5. W innych modelach predykcje są prostolinijne."
   ]
  },
  {
   "cell_type": "code",
   "execution_count": 8,
   "id": "8781c5d7-9d94-4dd4-8139-e2ef3ec24f39",
   "metadata": {},
   "outputs": [
    {
     "data": {
      "text/plain": [
       "(82754, 10)"
      ]
     },
     "execution_count": 8,
     "metadata": {},
     "output_type": "execute_result"
    }
   ],
   "source": [
    "y_pred.shape"
   ]
  },
  {
   "cell_type": "code",
   "execution_count": 9,
   "id": "7caac0b6-4ccb-49f8-9584-bb9446037d7a",
   "metadata": {},
   "outputs": [],
   "source": [
    "y_pred = (y_pred[:, 1] >= 0.5)"
   ]
  },
  {
   "cell_type": "code",
   "execution_count": 10,
   "id": "493ee01e-7c58-4ff4-8936-3d8b3f1d8dbc",
   "metadata": {},
   "outputs": [
    {
     "data": {
      "text/plain": [
       "<sklearn.metrics._plot.confusion_matrix.ConfusionMatrixDisplay at 0x14d67710a30>"
      ]
     },
     "execution_count": 10,
     "metadata": {},
     "output_type": "execute_result"
    },
    {
     "data": {
      "image/png": "[encoded data removed]",
      "text/plain": [
       "<Figure size 640x480 with 2 Axes>"
      ]
     },
     "metadata": {},
     "output_type": "display_data"
    }
   ],
   "source": [
    "ConfusionMatrixDisplay.from_predictions(y_true=y_test, y_pred=y_pred)"
   ]
  },
  {
   "cell_type": "code",
   "execution_count": null,
   "id": "14b3aa2b-72f7-4ad8-ac43-5a2704dff84d",
   "metadata": {},
   "outputs": [],
   "source": []
  }
 ],
 "metadata": {
  "kernelspec": {
   "display_name": "Python 3 (ipykernel)",
   "language": "python",
   "name": "python3"
  },
  "language_info": {
   "codemirror_mode": {
    "name": "ipython",
    "version": 3
   },
   "file_extension": ".py",
   "mimetype": "text/x-python",
   "name": "python",
   "nbconvert_exporter": "python",
   "pygments_lexer": "ipython3",
   "version": "3.10.0"
  }
 },
 "nbformat": 4,
 "nbformat_minor": 5
}
